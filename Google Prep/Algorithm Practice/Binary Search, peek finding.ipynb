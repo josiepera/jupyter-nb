{
 "cells": [
  {
   "cell_type": "code",
   "execution_count": 1,
   "metadata": {},
   "outputs": [],
   "source": [
    "def binary_search_recursive(arr, elem, start=0, end=None):\n",
    "    if end is None:\n",
    "        end = len(arr) - 1\n",
    "    if start > end:\n",
    "        return False\n",
    "\n",
    "    mid = (start + end) // 2\n",
    "    if elem == arr[mid]:\n",
    "        return mid\n",
    "    if elem < arr[mid]:\n",
    "        return binary_search_recursive(arr, elem, start, mid-1)\n",
    "    # elem > arr[mid]\n",
    "    return binary_search_recursive(arr, elem, mid+1, end)\n",
    "    "
   ]
  },
  {
   "cell_type": "code",
   "execution_count": 2,
   "metadata": {},
   "outputs": [
    {
     "data": {
      "text/plain": [
       "7"
      ]
     },
     "execution_count": 2,
     "metadata": {},
     "output_type": "execute_result"
    }
   ],
   "source": [
    "binary_search_recursive([8,4,9,2,5,3,4,6], 6)"
   ]
  },
  {
   "cell_type": "code",
   "execution_count": 19,
   "metadata": {},
   "outputs": [],
   "source": [
    "## first make you must specify the lower bound and upper bound\n",
    "    #lower is first index and upper is last\n",
    "    \n",
    "\n",
    "# data = [4,7,8,12,45,99]\n",
    "# target = 45  \n",
    "data = [3,6,4,678,432,567,876,987654,543,234,7658]\n",
    "    \n",
    "    \n",
    "def search(data,target,low,high):\n",
    "    \n",
    "    if low > high:\n",
    "        return False\n",
    "    else:\n",
    "        midpoint = (low + high) // 2\n",
    "        if target == data[midpoint]:\n",
    "            return True\n",
    "        elif target < data[midpoint]:\n",
    "            return search(data,target,low,midpoint-1)\n",
    "        else:\n",
    "            return search(data,target,midpoint+1, high)\n",
    "                \n",
    "                    \n",
    "                \n",
    "    "
   ]
  },
  {
   "cell_type": "code",
   "execution_count": 23,
   "metadata": {},
   "outputs": [
    {
     "data": {
      "text/plain": [
       "True"
      ]
     },
     "execution_count": 23,
     "metadata": {},
     "output_type": "execute_result"
    }
   ],
   "source": [
    "search(data,3,0,len(data) - 1)"
   ]
  },
  {
   "cell_type": "code",
   "execution_count": 3,
   "metadata": {},
   "outputs": [
    {
     "data": {
      "text/plain": [
       "4"
      ]
     },
     "execution_count": 3,
     "metadata": {},
     "output_type": "execute_result"
    }
   ],
   "source": [
    "3+1"
   ]
  },
  {
   "cell_type": "code",
   "execution_count": 8,
   "metadata": {},
   "outputs": [],
   "source": [
    "lst = [3,6,4,678,432,567,876,987654,543,234,7658]\n",
    "target = 432\n",
    "\n",
    "def bin_search(lst,low,high,target):\n",
    "    \n",
    "    if low > high:\n",
    "        return False\n",
    "    \n",
    "    midpoint = (low + high) // 2\n",
    "    \n",
    "    if target == lst[midpoint]:\n",
    "        return True\n",
    "    elif target < lst[midpoint]:\n",
    "        return bin_search(lst,low,midpoint-1,target)\n",
    "    else:\n",
    "        return bin_search(lst,midpoint+1,high,target)"
   ]
  },
  {
   "cell_type": "code",
   "execution_count": 10,
   "metadata": {},
   "outputs": [
    {
     "data": {
      "text/plain": [
       "False"
      ]
     },
     "execution_count": 10,
     "metadata": {},
     "output_type": "execute_result"
    }
   ],
   "source": [
    "bin_search(lst,0,len(lst) - 1,target)"
   ]
  },
  {
   "cell_type": "code",
   "execution_count": null,
   "metadata": {},
   "outputs": [],
   "source": []
  },
  {
   "cell_type": "code",
   "execution_count": null,
   "metadata": {},
   "outputs": [],
   "source": []
  },
  {
   "cell_type": "code",
   "execution_count": null,
   "metadata": {},
   "outputs": [],
   "source": []
  },
  {
   "cell_type": "code",
   "execution_count": null,
   "metadata": {},
   "outputs": [],
   "source": []
  },
  {
   "cell_type": "code",
   "execution_count": null,
   "metadata": {},
   "outputs": [],
   "source": []
  },
  {
   "cell_type": "code",
   "execution_count": 28,
   "metadata": {},
   "outputs": [],
   "source": [
    "\n"
   ]
  },
  {
   "cell_type": "code",
   "execution_count": null,
   "metadata": {},
   "outputs": [],
   "source": []
  },
  {
   "cell_type": "code",
   "execution_count": 2,
   "metadata": {},
   "outputs": [],
   "source": [
    "## instead running through the array O(n)\n",
    "## binary search runs at O(log n)\n",
    "\n",
    "lst = [1,2,3,4,5,6,7,8,9,10,30,500,1000,1005,10000]\n",
    "\n",
    "def binary_search(lst,val):\n",
    "     ## check if the array is empty or if the array has a single element \n",
    "     ## but that element isnt what we are searhcing for\n",
    "    if len(lst) == 0 or (len(lst) == 1 and lst[0] != val):\n",
    "        return False\n",
    "    \n",
    "    ## create the mid variable\n",
    "    mid = lst[len(lst) // 2]\n",
    "    \n",
    "    if val == mid:## if the val is the mid then we found it\n",
    "        return True\n",
    "    if val < mid: ## if the val is less than the mid\n",
    "        return binary_search(lst[:len(lst) // 2],val) ##pass the first half of the array as input\n",
    "    if val > mid: ## if the array is greater than mid\n",
    "        return binary_search(lst[len(lst) // 2:],val) ##pass second half as input\n",
    "    \n",
    "\n",
    "    "
   ]
  },
  {
   "cell_type": "code",
   "execution_count": 3,
   "metadata": {},
   "outputs": [
    {
     "data": {
      "text/plain": [
       "False"
      ]
     },
     "execution_count": 3,
     "metadata": {},
     "output_type": "execute_result"
    }
   ],
   "source": [
    "binary_search(lst,10000000)"
   ]
  },
  {
   "cell_type": "code",
   "execution_count": null,
   "metadata": {},
   "outputs": [],
   "source": []
  },
  {
   "cell_type": "code",
   "execution_count": 3,
   "metadata": {},
   "outputs": [],
   "source": [
    "## if mid is less than n-1 \n",
    "    #only look at left half\n",
    "##if mid is less than n+1 \n",
    "    #only look at right half\n",
    "\n",
    "##else if n is less than n+1 \n",
    "\n",
    "\n",
    "lst = [10, 20, 15, 2, 23, 90, 67, 4]\n",
    "    \n",
    "\n",
    "def peak(lst):\n",
    "    mid = lst[len(lst) // 2]\n",
    "  \n",
    "    if ((mid == 0 or lst[mid - 1] <= lst[mid]) and \n",
    "       (mid == len(lst) - 1 or lst[mid + 1] <= lst[mid])): \n",
    "        return mid \n",
    "\n",
    "    elif (mid > 0 and lst[mid - 1] > lst[mid]): \n",
    "        return peak((mid - 1)) \n",
    "\n",
    "    else: \n",
    "        return peak(lst[mid + 1])\n",
    "        \n",
    "    "
   ]
  },
  {
   "cell_type": "raw",
   "metadata": {},
   "source": []
  },
  {
   "cell_type": "code",
   "execution_count": 4,
   "metadata": {},
   "outputs": [
    {
     "ename": "IndexError",
     "evalue": "list index out of range",
     "output_type": "error",
     "traceback": [
      "\u001b[0;31m---------------------------------------------------------------------------\u001b[0m",
      "\u001b[0;31mIndexError\u001b[0m                                Traceback (most recent call last)",
      "\u001b[0;32m<ipython-input-4-1eb568cb4aa9>\u001b[0m in \u001b[0;36m<module>\u001b[0;34m()\u001b[0m\n\u001b[0;32m----> 1\u001b[0;31m \u001b[0mpeak\u001b[0m\u001b[0;34m(\u001b[0m\u001b[0mlst\u001b[0m\u001b[0;34m)\u001b[0m\u001b[0;34m\u001b[0m\u001b[0m\n\u001b[0m",
      "\u001b[0;32m<ipython-input-3-c435c23ed352>\u001b[0m in \u001b[0;36mpeak\u001b[0;34m(lst)\u001b[0m\n\u001b[1;32m     13\u001b[0m     \u001b[0mmid\u001b[0m \u001b[0;34m=\u001b[0m \u001b[0mlst\u001b[0m\u001b[0;34m[\u001b[0m\u001b[0mlen\u001b[0m\u001b[0;34m(\u001b[0m\u001b[0mlst\u001b[0m\u001b[0;34m)\u001b[0m \u001b[0;34m//\u001b[0m \u001b[0;36m2\u001b[0m\u001b[0;34m]\u001b[0m\u001b[0;34m\u001b[0m\u001b[0m\n\u001b[1;32m     14\u001b[0m \u001b[0;34m\u001b[0m\u001b[0m\n\u001b[0;32m---> 15\u001b[0;31m     if ((mid == 0 or lst[mid - 1] <= lst[mid]) and \n\u001b[0m\u001b[1;32m     16\u001b[0m        (mid == len(lst) - 1 or lst[mid + 1] <= lst[mid])): \n\u001b[1;32m     17\u001b[0m         \u001b[0;32mreturn\u001b[0m \u001b[0mmid\u001b[0m\u001b[0;34m\u001b[0m\u001b[0m\n",
      "\u001b[0;31mIndexError\u001b[0m: list index out of range"
     ]
    }
   ],
   "source": [
    "peak(lst)"
   ]
  },
  {
   "cell_type": "code",
   "execution_count": 10,
   "metadata": {},
   "outputs": [],
   "source": [
    "def findPeakUtil(lst, low, high, n): \n",
    "    n = len(lst)\n",
    "    high = n + 1\n",
    "    low = n - 1\n",
    "      \n",
    "    mid = n // 2  \n",
    "      \n",
    "    # Compare middle element with its  \n",
    "    # neighbours (if neighbours exist) \n",
    "    if ((mid == 0 or lst[mid - 1] <= lst[mid]) and \n",
    "       (mid == n - 1 or lst[mid + 1] <= lst[mid])): \n",
    "        return mid \n",
    "  \n",
    "  \n",
    "    # If middle element is not peak and  \n",
    "    # its left neighbour is greater  \n",
    "    # than it, then left half must  \n",
    "    # have a peak element \n",
    "    elif (mid > 0 and lst[mid - 1] > lst[mid]): \n",
    "        return findPeakUtil(lst, low, (mid - 1), n) \n",
    "  \n",
    "    # If middle element is not peak and \n",
    "    # its right neighbour is greater \n",
    "    # than it, then right half must  \n",
    "    # have a peak element \n",
    "    else: \n",
    "        return findPeakUtil(lst, (mid + 1), high, n) \n",
    "  \n",
    "  \n",
    "# # A wrapper over recursive  \n",
    "# # function findPeakUtil() \n",
    "# def findPeak(lst, n): \n",
    "  \n",
    "#     return findPeakUtil(lst, 0, n - 1, n) \n",
    "  \n",
    "# ##Driver code \n",
    "# arr = [1, 3, 20, 4, 1, 0] \n",
    "# n = len(lst) \n",
    "# print(\"Index of a peak point is\", findPeak(lst, n))"
   ]
  },
  {
   "cell_type": "raw",
   "metadata": {},
   "source": [
    "\n"
   ]
  },
  {
   "cell_type": "code",
   "execution_count": 12,
   "metadata": {},
   "outputs": [
    {
     "ename": "RecursionError",
     "evalue": "maximum recursion depth exceeded while calling a Python object",
     "output_type": "error",
     "traceback": [
      "\u001b[0;31m---------------------------------------------------------------------------\u001b[0m",
      "\u001b[0;31mRecursionError\u001b[0m                            Traceback (most recent call last)",
      "\u001b[0;32m<ipython-input-12-d5df743f0570>\u001b[0m in \u001b[0;36m<module>\u001b[0;34m()\u001b[0m\n\u001b[0;32m----> 1\u001b[0;31m \u001b[0mfindPeakUtil\u001b[0m\u001b[0;34m(\u001b[0m\u001b[0;34m[\u001b[0m\u001b[0;36m1\u001b[0m\u001b[0;34m,\u001b[0m \u001b[0;36m3\u001b[0m\u001b[0;34m,\u001b[0m \u001b[0;36m20\u001b[0m\u001b[0;34m,\u001b[0m \u001b[0;36m4\u001b[0m\u001b[0;34m,\u001b[0m \u001b[0;36m1\u001b[0m\u001b[0;34m,\u001b[0m \u001b[0;36m0\u001b[0m\u001b[0;34m]\u001b[0m\u001b[0;34m,\u001b[0m \u001b[0;36m0\u001b[0m\u001b[0;34m,\u001b[0m \u001b[0mn\u001b[0m\u001b[0;34m-\u001b[0m\u001b[0;36m1\u001b[0m\u001b[0;34m,\u001b[0m \u001b[0mn\u001b[0m\u001b[0;34m)\u001b[0m\u001b[0;34m\u001b[0m\u001b[0m\n\u001b[0m",
      "\u001b[0;32m<ipython-input-10-d5598b0756d8>\u001b[0m in \u001b[0;36mfindPeakUtil\u001b[0;34m(lst, low, high, n)\u001b[0m\n\u001b[1;32m     18\u001b[0m     \u001b[0;31m# have a peak element\u001b[0m\u001b[0;34m\u001b[0m\u001b[0;34m\u001b[0m\u001b[0m\n\u001b[1;32m     19\u001b[0m     \u001b[0;32melif\u001b[0m \u001b[0;34m(\u001b[0m\u001b[0mmid\u001b[0m \u001b[0;34m>\u001b[0m \u001b[0;36m0\u001b[0m \u001b[0;32mand\u001b[0m \u001b[0mlst\u001b[0m\u001b[0;34m[\u001b[0m\u001b[0mmid\u001b[0m \u001b[0;34m-\u001b[0m \u001b[0;36m1\u001b[0m\u001b[0;34m]\u001b[0m \u001b[0;34m>\u001b[0m \u001b[0mlst\u001b[0m\u001b[0;34m[\u001b[0m\u001b[0mmid\u001b[0m\u001b[0;34m]\u001b[0m\u001b[0;34m)\u001b[0m\u001b[0;34m:\u001b[0m\u001b[0;34m\u001b[0m\u001b[0m\n\u001b[0;32m---> 20\u001b[0;31m         \u001b[0;32mreturn\u001b[0m \u001b[0mfindPeakUtil\u001b[0m\u001b[0;34m(\u001b[0m\u001b[0mlst\u001b[0m\u001b[0;34m,\u001b[0m \u001b[0mlow\u001b[0m\u001b[0;34m,\u001b[0m \u001b[0;34m(\u001b[0m\u001b[0mmid\u001b[0m \u001b[0;34m-\u001b[0m \u001b[0;36m1\u001b[0m\u001b[0;34m)\u001b[0m\u001b[0;34m,\u001b[0m \u001b[0mn\u001b[0m\u001b[0;34m)\u001b[0m\u001b[0;34m\u001b[0m\u001b[0m\n\u001b[0m\u001b[1;32m     21\u001b[0m \u001b[0;34m\u001b[0m\u001b[0m\n\u001b[1;32m     22\u001b[0m     \u001b[0;31m# If middle element is not peak and\u001b[0m\u001b[0;34m\u001b[0m\u001b[0;34m\u001b[0m\u001b[0m\n",
      "... last 1 frames repeated, from the frame below ...\n",
      "\u001b[0;32m<ipython-input-10-d5598b0756d8>\u001b[0m in \u001b[0;36mfindPeakUtil\u001b[0;34m(lst, low, high, n)\u001b[0m\n\u001b[1;32m     18\u001b[0m     \u001b[0;31m# have a peak element\u001b[0m\u001b[0;34m\u001b[0m\u001b[0;34m\u001b[0m\u001b[0m\n\u001b[1;32m     19\u001b[0m     \u001b[0;32melif\u001b[0m \u001b[0;34m(\u001b[0m\u001b[0mmid\u001b[0m \u001b[0;34m>\u001b[0m \u001b[0;36m0\u001b[0m \u001b[0;32mand\u001b[0m \u001b[0mlst\u001b[0m\u001b[0;34m[\u001b[0m\u001b[0mmid\u001b[0m \u001b[0;34m-\u001b[0m \u001b[0;36m1\u001b[0m\u001b[0;34m]\u001b[0m \u001b[0;34m>\u001b[0m \u001b[0mlst\u001b[0m\u001b[0;34m[\u001b[0m\u001b[0mmid\u001b[0m\u001b[0;34m]\u001b[0m\u001b[0;34m)\u001b[0m\u001b[0;34m:\u001b[0m\u001b[0;34m\u001b[0m\u001b[0m\n\u001b[0;32m---> 20\u001b[0;31m         \u001b[0;32mreturn\u001b[0m \u001b[0mfindPeakUtil\u001b[0m\u001b[0;34m(\u001b[0m\u001b[0mlst\u001b[0m\u001b[0;34m,\u001b[0m \u001b[0mlow\u001b[0m\u001b[0;34m,\u001b[0m \u001b[0;34m(\u001b[0m\u001b[0mmid\u001b[0m \u001b[0;34m-\u001b[0m \u001b[0;36m1\u001b[0m\u001b[0;34m)\u001b[0m\u001b[0;34m,\u001b[0m \u001b[0mn\u001b[0m\u001b[0;34m)\u001b[0m\u001b[0;34m\u001b[0m\u001b[0m\n\u001b[0m\u001b[1;32m     21\u001b[0m \u001b[0;34m\u001b[0m\u001b[0m\n\u001b[1;32m     22\u001b[0m     \u001b[0;31m# If middle element is not peak and\u001b[0m\u001b[0;34m\u001b[0m\u001b[0;34m\u001b[0m\u001b[0m\n",
      "\u001b[0;31mRecursionError\u001b[0m: maximum recursion depth exceeded while calling a Python object"
     ]
    }
   ],
   "source": [
    "findPeakUtil([1, 3, 20, 4, 1, 0], 0, n-1, n)"
   ]
  },
  {
   "cell_type": "code",
   "execution_count": null,
   "metadata": {},
   "outputs": [],
   "source": []
  },
  {
   "cell_type": "code",
   "execution_count": null,
   "metadata": {},
   "outputs": [],
   "source": []
  },
  {
   "cell_type": "code",
   "execution_count": null,
   "metadata": {},
   "outputs": [],
   "source": []
  },
  {
   "cell_type": "code",
   "execution_count": null,
   "metadata": {},
   "outputs": [],
   "source": []
  },
  {
   "cell_type": "code",
   "execution_count": null,
   "metadata": {},
   "outputs": [],
   "source": []
  },
  {
   "cell_type": "code",
   "execution_count": null,
   "metadata": {},
   "outputs": [],
   "source": []
  }
 ],
 "metadata": {
  "kernelspec": {
   "display_name": "Python 3",
   "language": "python",
   "name": "python3"
  },
  "language_info": {
   "codemirror_mode": {
    "name": "ipython",
    "version": 3
   },
   "file_extension": ".py",
   "mimetype": "text/x-python",
   "name": "python",
   "nbconvert_exporter": "python",
   "pygments_lexer": "ipython3",
   "version": "3.7.0"
  }
 },
 "nbformat": 4,
 "nbformat_minor": 2
}
