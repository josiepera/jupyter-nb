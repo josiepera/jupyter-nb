{
 "cells": [
  {
   "cell_type": "code",
   "execution_count": 1,
   "metadata": {},
   "outputs": [],
   "source": [
    "def binary_search_recursive(arr, elem, start=0, end=None):\n",
    "    if end is None:\n",
    "        end = len(arr) - 1\n",
    "    if start > end:\n",
    "        return False\n",
    "\n",
    "    mid = (start + end) // 2\n",
    "    if elem == arr[mid]:\n",
    "        return mid\n",
    "    if elem < arr[mid]:\n",
    "        return binary_search_recursive(arr, elem, start, mid-1)\n",
    "    # elem > arr[mid]\n",
    "    return binary_search_recursive(arr, elem, mid+1, end)\n",
    "    "
   ]
  },
  {
   "cell_type": "code",
   "execution_count": 2,
   "metadata": {},
   "outputs": [
    {
     "data": {
      "text/plain": [
       "7"
      ]
     },
     "execution_count": 2,
     "metadata": {},
     "output_type": "execute_result"
    }
   ],
   "source": [
    "binary_search_recursive([8,4,9,2,5,3,4,6], 6)"
   ]
  },
  {
   "cell_type": "code",
   "execution_count": 19,
   "metadata": {},
   "outputs": [],
   "source": [
    "## first make you must specify the lower bound and upper bound\n",
    "    #lower is first index and upper is last\n",
    "    \n",
    "\n",
    "# data = [4,7,8,12,45,99]\n",
    "# target = 45  \n",
    "data = [3,6,4,678,432,567,876,987654,543,234,7658]\n",
    "    \n",
    "    \n",
    "def search(data,target,low,high):\n",
    "    \n",
    "    if low > high:\n",
    "        return False\n",
    "    else:\n",
    "        midpoint = (low + high) // 2\n",
    "        if target == data[midpoint]:\n",
    "            return True\n",
    "        elif target < data[midpoint]:\n",
    "            return search(data,target,low,midpoint-1)\n",
    "        else:\n",
    "            return search(data,target,midpoint+1, high)\n",
    "                \n",
    "                    \n",
    "                \n",
    "    "
   ]
  },
  {
   "cell_type": "code",
   "execution_count": 23,
   "metadata": {},
   "outputs": [
    {
     "data": {
      "text/plain": [
       "True"
      ]
     },
     "execution_count": 23,
     "metadata": {},
     "output_type": "execute_result"
    }
   ],
   "source": [
    "search(data,3,0,len(data) - 1)"
   ]
  },
  {
   "cell_type": "code",
   "execution_count": 3,
   "metadata": {},
   "outputs": [
    {
     "data": {
      "text/plain": [
       "4"
      ]
     },
     "execution_count": 3,
     "metadata": {},
     "output_type": "execute_result"
    }
   ],
   "source": [
    "3+1"
   ]
  },
  {
   "cell_type": "code",
   "execution_count": 8,
   "metadata": {},
   "outputs": [],
   "source": [
    "lst = [3,6,4,678,432,567,876,987654,543,234,7658]\n",
    "target = 432\n",
    "\n",
    "def bin_search(lst,low,high,target):\n",
    "    \n",
    "    if low > high:\n",
    "        return False\n",
    "    \n",
    "    midpoint = (low + high) // 2\n",
    "    \n",
    "    if target == lst[midpoint]:\n",
    "        return True\n",
    "    elif target < lst[midpoint]:\n",
    "        return bin_search(lst,low,midpoint-1,target)\n",
    "    else:\n",
    "        return bin_search(lst,midpoint+1,high,target)"
   ]
  },
  {
   "cell_type": "code",
   "execution_count": 10,
   "metadata": {},
   "outputs": [
    {
     "data": {
      "text/plain": [
       "False"
      ]
     },
     "execution_count": 10,
     "metadata": {},
     "output_type": "execute_result"
    }
   ],
   "source": [
    "bin_search(lst,0,len(lst) - 1,target)"
   ]
  },
  {
   "cell_type": "code",
   "execution_count": null,
   "metadata": {},
   "outputs": [],
   "source": []
  },
  {
   "cell_type": "code",
   "execution_count": null,
   "metadata": {},
   "outputs": [],
   "source": []
  },
  {
   "cell_type": "code",
   "execution_count": null,
   "metadata": {},
   "outputs": [],
   "source": []
  },
  {
   "cell_type": "code",
   "execution_count": null,
   "metadata": {},
   "outputs": [],
   "source": []
  },
  {
   "cell_type": "code",
   "execution_count": null,
   "metadata": {},
   "outputs": [],
   "source": []
  },
  {
   "cell_type": "code",
   "execution_count": 28,
   "metadata": {},
   "outputs": [],
   "source": [
    "\n"
   ]
  },
  {
   "cell_type": "code",
   "execution_count": null,
   "metadata": {},
   "outputs": [],
   "source": []
  },
  {
   "cell_type": "code",
   "execution_count": 22,
   "metadata": {},
   "outputs": [],
   "source": [
    "## instead running through the array O(n)\n",
    "## binary search runs at O(log n)\n",
    "\n",
    "lst = [1,2,3,4,5,6,7,8,9,10,30,500,1000,1005,10000]\n",
    "\n",
    "def binary_search(lst,val):\n",
    "     ## check if the array is empty or if the array has a single element \n",
    "     ## but that element isnt what we are searhcing for\n",
    "    if len(lst) == 0 or (len(lst) == 1 and lst[0] != val):\n",
    "        return False\n",
    "    \n",
    "    ## create the mid variable\n",
    "    mid = lst[len(lst) // 2]\n",
    "    \n",
    "    if val == mid:## if the val is the mid then we found it\n",
    "        return True\n",
    "    if val < mid: ## if the val is less than the mid\n",
    "        return binary_search(lst[:len(lst) // 2],val) ##pass the first half of the array as input\n",
    "    if val > mid: ## if the array is greater than mid\n",
    "        return binary_search(lst[len(lst) // 2:],val) ##pass second half as input\n",
    "    \n",
    "\n",
    "    "
   ]
  },
  {
   "cell_type": "code",
   "execution_count": 23,
   "metadata": {},
   "outputs": [
    {
     "data": {
      "text/plain": [
       "True"
      ]
     },
     "execution_count": 23,
     "metadata": {},
     "output_type": "execute_result"
    }
   ],
   "source": [
    "binary_search(lst,30)"
   ]
  },
  {
   "cell_type": "code",
   "execution_count": null,
   "metadata": {},
   "outputs": [],
   "source": []
  },
  {
   "cell_type": "code",
   "execution_count": null,
   "metadata": {},
   "outputs": [],
   "source": [
    "Node():\n",
    "    def __init__(self,key):\n",
    "        self.value = key\n",
    "        self.right = self.left = None\n",
    "        \n",
    "        \n",
    "def insert(root,node):\n",
    "    if root is None:\n",
    "        root = node\n",
    "    else:\n",
    "        if root.value < node.value:\n",
    "            if root.right is None:\n",
    "                root.right = node\n",
    "            else:\n",
    "                insert(root.right,node)\n",
    "        elif root.value < node.value:\n",
    "            if root.left is None:\n",
    "                root.left = node\n",
    "            else:\n",
    "                insert(root.left,node)\n",
    "        else:\n",
    "            print(\"already has value\")\n",
    "            \n",
    "def preorder(root):\n",
    "    if root:\n",
    "        print(root.value)\n",
    "        preorder(root.left)\n",
    "        preorder(root.right)\n",
    "        \n",
    "def postorder(root):\n",
    "    if root:\n",
    "        preorder(root.left)\n",
    "        preorder(root.right)\n",
    "        print(root.value)\n",
    "\n",
    "def inorder(root)\n",
    "    if root:\n",
    "        preorder(root.left)\n",
    "        print(root.value)\n",
    "        preorder(root.right)\n",
    "        \n",
    "\n",
    "def insert_loop(lst):\n",
    "    for num in lst:\n",
    "        insert(tree,Node(num))\n",
    "    \n",
    "        "
   ]
  },
  {
   "cell_type": "raw",
   "metadata": {},
   "source": []
  },
  {
   "cell_type": "code",
   "execution_count": 37,
   "metadata": {},
   "outputs": [],
   "source": [
    "insert(tree,Node(8))"
   ]
  },
  {
   "cell_type": "code",
   "execution_count": 38,
   "metadata": {},
   "outputs": [],
   "source": [
    "lst = [5,60,25,10]"
   ]
  },
  {
   "cell_type": "code",
   "execution_count": null,
   "metadata": {},
   "outputs": [],
   "source": []
  },
  {
   "cell_type": "code",
   "execution_count": null,
   "metadata": {},
   "outputs": [],
   "source": []
  },
  {
   "cell_type": "code",
   "execution_count": null,
   "metadata": {},
   "outputs": [],
   "source": []
  },
  {
   "cell_type": "code",
   "execution_count": null,
   "metadata": {},
   "outputs": [],
   "source": []
  },
  {
   "cell_type": "code",
   "execution_count": null,
   "metadata": {},
   "outputs": [],
   "source": []
  },
  {
   "cell_type": "code",
   "execution_count": null,
   "metadata": {},
   "outputs": [],
   "source": []
  },
  {
   "cell_type": "code",
   "execution_count": null,
   "metadata": {},
   "outputs": [],
   "source": []
  },
  {
   "cell_type": "code",
   "execution_count": null,
   "metadata": {},
   "outputs": [],
   "source": []
  }
 ],
 "metadata": {
  "kernelspec": {
   "display_name": "Python 3",
   "language": "python",
   "name": "python3"
  },
  "language_info": {
   "codemirror_mode": {
    "name": "ipython",
    "version": 3
   },
   "file_extension": ".py",
   "mimetype": "text/x-python",
   "name": "python",
   "nbconvert_exporter": "python",
   "pygments_lexer": "ipython3",
   "version": "3.7.0"
  }
 },
 "nbformat": 4,
 "nbformat_minor": 2
}
