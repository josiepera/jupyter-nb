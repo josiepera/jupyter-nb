{
 "cells": [
  {
   "cell_type": "code",
   "execution_count": 68,
   "metadata": {},
   "outputs": [],
   "source": [
    "##Hash Table\n",
    "\n",
    "\n",
    "\n",
    "\n",
    "## print out duplicates in string\n",
    "\n",
    "def recurring(s):\n",
    "    counts = {}  \n",
    "    \n",
    "    for char in s:\n",
    "        if not char in counts:\n",
    "            counts[char] = 1\n",
    "        else:\n",
    "            counts[char] += 1\n",
    "               \n",
    "    return counts\n",
    "    ## return counts.keys() --> returns keys\n",
    "    ## return counts.values() --> returns values\n",
    "\n"
   ]
  },
  {
   "cell_type": "code",
   "execution_count": 69,
   "metadata": {},
   "outputs": [
    {
     "data": {
      "text/plain": [
       "{'y': 1, 'o': 4}"
      ]
     },
     "execution_count": 69,
     "metadata": {},
     "output_type": "execute_result"
    }
   ],
   "source": [
    "recurring('yoooo')"
   ]
  },
  {
   "cell_type": "code",
   "execution_count": null,
   "metadata": {},
   "outputs": [],
   "source": []
  },
  {
   "cell_type": "code",
   "execution_count": 2,
   "metadata": {},
   "outputs": [],
   "source": [
    "## eliminate duplicates\n",
    "\n",
    "\n",
    "def recur(lst):\n",
    "    rep = []\n",
    "    \n",
    "    for num in range(len(lst)):\n",
    "        if num in lst:\n",
    "            rep.append(num)\n",
    "    return rep"
   ]
  },
  {
   "cell_type": "code",
   "execution_count": 3,
   "metadata": {},
   "outputs": [
    {
     "data": {
      "text/plain": [
       "[1, 2, 3, 4, 5, 6, 7, 8, 9]"
      ]
     },
     "execution_count": 3,
     "metadata": {},
     "output_type": "execute_result"
    }
   ],
   "source": [
    "recur([1,2,3,4,2,6,5,7,8,9,9,9,9,9,2,4,4,4])"
   ]
  },
  {
   "cell_type": "code",
   "execution_count": 60,
   "metadata": {},
   "outputs": [],
   "source": []
  },
  {
   "cell_type": "code",
   "execution_count": null,
   "metadata": {},
   "outputs": [],
   "source": []
  },
  {
   "cell_type": "code",
   "execution_count": 3,
   "metadata": {},
   "outputs": [],
   "source": [
    "st = \"Why Helloooooo Theaaaa\""
   ]
  },
  {
   "cell_type": "code",
   "execution_count": 20,
   "metadata": {},
   "outputs": [],
   "source": [
    "def recurring_char(st):\n",
    "    repeats = {}\n",
    "    \n",
    "    for char in st:\n",
    "        if char in repeats:\n",
    "            repeats[char] += 1\n",
    "        else:\n",
    "            repeats[char] = 1\n",
    "    return repeats\n"
   ]
  },
  {
   "cell_type": "code",
   "execution_count": 21,
   "metadata": {},
   "outputs": [
    {
     "data": {
      "text/plain": [
       "{'W': 1,\n",
       " 'h': 2,\n",
       " 'y': 1,\n",
       " ' ': 2,\n",
       " 'H': 1,\n",
       " 'e': 2,\n",
       " 'l': 2,\n",
       " 'o': 6,\n",
       " 'T': 1,\n",
       " 'a': 4}"
      ]
     },
     "execution_count": 21,
     "metadata": {},
     "output_type": "execute_result"
    }
   ],
   "source": [
    "recurring_char(st)"
   ]
  },
  {
   "cell_type": "code",
   "execution_count": 24,
   "metadata": {},
   "outputs": [],
   "source": [
    "def recur(st):\n",
    "    \n",
    "    dict = {}\n",
    "    \n",
    "    for char in st:\n",
    "        if char in dict:\n",
    "            dict[char] += 1\n",
    "        else:\n",
    "            dict[char] = 1\n",
    "    return dict\n",
    "    "
   ]
  },
  {
   "cell_type": "raw",
   "metadata": {},
   "source": []
  },
  {
   "cell_type": "code",
   "execution_count": 25,
   "metadata": {},
   "outputs": [
    {
     "data": {
      "text/plain": [
       "{'H': 1, 'e': 1, 'l': 2, 'o': 1}"
      ]
     },
     "execution_count": 25,
     "metadata": {},
     "output_type": "execute_result"
    }
   ],
   "source": [
    "recur('Hello')"
   ]
  },
  {
   "cell_type": "code",
   "execution_count": null,
   "metadata": {},
   "outputs": [],
   "source": []
  },
  {
   "cell_type": "code",
   "execution_count": null,
   "metadata": {},
   "outputs": [],
   "source": []
  },
  {
   "cell_type": "code",
   "execution_count": null,
   "metadata": {},
   "outputs": [],
   "source": []
  }
 ],
 "metadata": {
  "kernelspec": {
   "display_name": "Python 3",
   "language": "python",
   "name": "python3"
  },
  "language_info": {
   "codemirror_mode": {
    "name": "ipython",
    "version": 3
   },
   "file_extension": ".py",
   "mimetype": "text/x-python",
   "name": "python",
   "nbconvert_exporter": "python",
   "pygments_lexer": "ipython3",
   "version": "3.7.0"
  }
 },
 "nbformat": 4,
 "nbformat_minor": 2
}
