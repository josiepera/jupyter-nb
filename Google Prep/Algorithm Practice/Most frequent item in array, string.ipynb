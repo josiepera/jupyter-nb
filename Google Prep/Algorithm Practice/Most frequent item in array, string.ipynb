{
 "cells": [
  {
   "cell_type": "code",
   "execution_count": 5,
   "metadata": {},
   "outputs": [],
   "source": [
    "## Given an array what is the most frequently occurring element\n",
    "## done in linear time so in O(n)"
   ]
  },
  {
   "cell_type": "code",
   "execution_count": 2,
   "metadata": {},
   "outputs": [],
   "source": [
    "## count is an empty dictionary\n",
    "## max_count is set to 0 to start off\n",
    "## max item is set to none\n",
    "\n",
    "## for each item in list\n",
    " ## if the current item is not in count dictionary\n",
    "    ## we will out it in the dtionary as 1\n",
    " ## otherwise\n",
    "    ##increment by 1 \n",
    "## if the number we iterate is greater than the max_count\n",
    "    ## number is then in max_item\n",
    "\n",
    "\n",
    "def most_freq(lst):\n",
    "    count = {}\n",
    "    max_count = 0 ## track number of times each item ocurred\n",
    "    max_item = None ## track of most frequent item\n",
    "    \n",
    "    for num in lst:\n",
    "        if num not in count:\n",
    "            count[num] = 1  ## then we want an index item that hasnt been saved yet\n",
    "        else:\n",
    "            count[num] += 1\n",
    "            \n",
    "        if count[num] > max_count: ## whatever value we built in prevous loop, we compare to max count\n",
    "            max_count = count[num]  ## we want to update max_count\n",
    "            max_item = num ## it is max item\n",
    "                              \n",
    "    return max_item\n",
    "    "
   ]
  },
  {
   "cell_type": "code",
   "execution_count": 3,
   "metadata": {},
   "outputs": [
    {
     "data": {
      "text/plain": [
       "6"
      ]
     },
     "execution_count": 3,
     "metadata": {},
     "output_type": "execute_result"
    }
   ],
   "source": [
    "most_freq([4,4,5,5,5,6,6,6,6,6,6,7,3,2,1,1] )"
   ]
  },
  {
   "cell_type": "code",
   "execution_count": 6,
   "metadata": {},
   "outputs": [],
   "source": [
    "## most frequent in string\n",
    "\n",
    "def most_freq(st):\n",
    "    count = {}\n",
    "    max_count = 0 ## track number of times each item ocurred\n",
    "    max_item = None ## track of most frequent item\n",
    "    \n",
    "    for char in st:\n",
    "        if char not in count:\n",
    "            count[char] = 1  ## then we want an index item that hasnt been saved yet\n",
    "        else:\n",
    "            count[char] += 1\n",
    "            \n",
    "        if count[char] > max_count: ## whatever value we built in prevous loop, we compare to max count\n",
    "            max_count = count[char]  ## we want to update max_count\n",
    "            max_item = char ## it is max item\n",
    "                              \n",
    "    return max_item\n",
    "\n"
   ]
  },
  {
   "cell_type": "code",
   "execution_count": 10,
   "metadata": {},
   "outputs": [
    {
     "data": {
      "text/plain": [
       "'H'"
      ]
     },
     "execution_count": 10,
     "metadata": {},
     "output_type": "execute_result"
    }
   ],
   "source": [
    "most_freq(\"HHHHylly\")"
   ]
  },
  {
   "cell_type": "code",
   "execution_count": 3,
   "metadata": {},
   "outputs": [
    {
     "name": "stdout",
     "output_type": "stream",
     "text": [
      "1\n"
     ]
    }
   ],
   "source": [
    "def most_frequent(List): \n",
    "    return max(set(List), key = List.count) \n",
    "  \n",
    "List = [4,4,5,5,5,6,6,6,6,6,6,7,3,2,1,1,1,1,1,1,1,1,1] \n",
    "print(most_frequent(List))"
   ]
  },
  {
   "cell_type": "code",
   "execution_count": 4,
   "metadata": {},
   "outputs": [],
   "source": [
    "example = set()"
   ]
  },
  {
   "cell_type": "code",
   "execution_count": null,
   "metadata": {},
   "outputs": [],
   "source": [
    "example.add(42)"
   ]
  },
  {
   "cell_type": "code",
   "execution_count": 4,
   "metadata": {},
   "outputs": [
    {
     "name": "stdout",
     "output_type": "stream",
     "text": [
      "1.65 µs ± 101 ns per loop (mean ± std. dev. of 7 runs, 1000000 loops each)\n"
     ]
    }
   ],
   "source": [
    "%timeit most_freq(\"Hello There\")"
   ]
  },
  {
   "cell_type": "code",
   "execution_count": null,
   "metadata": {},
   "outputs": [],
   "source": []
  },
  {
   "cell_type": "code",
   "execution_count": 13,
   "metadata": {},
   "outputs": [
    {
     "ename": "TabError",
     "evalue": "inconsistent use of tabs and spaces in indentation (<ipython-input-13-bf9ba205bd81>, line 3)",
     "output_type": "error",
     "traceback": [
      "\u001b[0;36m  File \u001b[0;32m\"<ipython-input-13-bf9ba205bd81>\"\u001b[0;36m, line \u001b[0;32m3\u001b[0m\n\u001b[0;31m    n = len(lst) // 2\u001b[0m\n\u001b[0m                     ^\u001b[0m\n\u001b[0;31mTabError\u001b[0m\u001b[0;31m:\u001b[0m inconsistent use of tabs and spaces in indentation\n"
     ]
    }
   ],
   "source": []
  },
  {
   "cell_type": "code",
   "execution_count": 11,
   "metadata": {},
   "outputs": [
    {
     "data": {
      "text/plain": [
       "'None'"
      ]
     },
     "execution_count": 11,
     "metadata": {},
     "output_type": "execute_result"
    }
   ],
   "source": [
    "majority_vote([\"A\", \"B\", \"B\", \"B\", \"A\", \"A\"])"
   ]
  },
  {
   "cell_type": "code",
   "execution_count": 21,
   "metadata": {},
   "outputs": [],
   "source": []
  },
  {
   "cell_type": "code",
   "execution_count": null,
   "metadata": {},
   "outputs": [],
   "source": []
  },
  {
   "cell_type": "code",
   "execution_count": null,
   "metadata": {},
   "outputs": [],
   "source": []
  },
  {
   "cell_type": "code",
   "execution_count": null,
   "metadata": {},
   "outputs": [],
   "source": []
  },
  {
   "cell_type": "code",
   "execution_count": null,
   "metadata": {},
   "outputs": [],
   "source": []
  },
  {
   "cell_type": "code",
   "execution_count": null,
   "metadata": {},
   "outputs": [],
   "source": []
  },
  {
   "cell_type": "code",
   "execution_count": null,
   "metadata": {},
   "outputs": [],
   "source": []
  },
  {
   "cell_type": "code",
   "execution_count": null,
   "metadata": {},
   "outputs": [],
   "source": []
  }
 ],
 "metadata": {
  "kernelspec": {
   "display_name": "Python 3",
   "language": "python",
   "name": "python3"
  },
  "language_info": {
   "codemirror_mode": {
    "name": "ipython",
    "version": 3
   },
   "file_extension": ".py",
   "mimetype": "text/x-python",
   "name": "python",
   "nbconvert_exporter": "python",
   "pygments_lexer": "ipython3",
   "version": "3.7.0"
  }
 },
 "nbformat": 4,
 "nbformat_minor": 2
}
