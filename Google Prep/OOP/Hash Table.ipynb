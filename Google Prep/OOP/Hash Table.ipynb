{
 "cells": [
  {
   "cell_type": "code",
   "execution_count": 1,
   "metadata": {},
   "outputs": [],
   "source": [
    "## given a string\n",
    "## return the first recurring character in said string\n",
    "\n",
    "## \"ABCA\" -> A\n",
    "##BCABA -> B\n",
    "##ABC -> none or null"
   ]
  },
  {
   "cell_type": "code",
   "execution_count": 4,
   "metadata": {},
   "outputs": [],
   "source": [
    "## Naive solution \n",
    "    ## start with the first letter\n",
    "    ## check item by item to see if it matches with another item\n",
    "    ## repeat until you hit firt recurring\n",
    "    \n",
    "\n",
    "# runtime would be (n/2) or n((n-1)/2) = O(n^2)\n"
   ]
  },
  {
   "cell_type": "code",
   "execution_count": 5,
   "metadata": {},
   "outputs": [],
   "source": [
    "## better solution for runtime\n",
    "    ## Run through char by char and store n a hastable\n",
    "    ## store in a dictionary\n",
    "    \n",
    "## since we run through it once, the runtime is O(n)"
   ]
  },
  {
   "cell_type": "code",
   "execution_count": 45,
   "metadata": {},
   "outputs": [],
   "source": [
    " ## this defines dict or hashtable \n",
    "    ## then run for loop for each char in given string\n",
    "        ## if the character is already in the dict \n",
    "        ## then it is the first recurring char and return char\n",
    "        ## if not \n",
    "            ## then put the char as a key in the hashtable \n",
    "            ## and the value corresponding to that is 1\n",
    "\n",
    "def first_rec(given_string):\n",
    "    counts = {}\n",
    "    for char in given_string:\n",
    "        if char in counts:\n",
    "            return char\n",
    "        else:\n",
    "            counts[char] = 1\n",
    "        \n",
    "    return 'None'\n",
    "    "
   ]
  },
  {
   "cell_type": "code",
   "execution_count": 46,
   "metadata": {},
   "outputs": [
    {
     "data": {
      "text/plain": [
       "'None'"
      ]
     },
     "execution_count": 46,
     "metadata": {},
     "output_type": "execute_result"
    }
   ],
   "source": [
    "first_rec(\"ABC\")"
   ]
  },
  {
   "cell_type": "code",
   "execution_count": 47,
   "metadata": {},
   "outputs": [
    {
     "data": {
      "text/plain": [
       "'C'"
      ]
     },
     "execution_count": 47,
     "metadata": {},
     "output_type": "execute_result"
    }
   ],
   "source": [
    "first_rec(\"ABCC\")"
   ]
  },
  {
   "cell_type": "code",
   "execution_count": null,
   "metadata": {},
   "outputs": [],
   "source": []
  }
 ],
 "metadata": {
  "kernelspec": {
   "display_name": "Python 3",
   "language": "python",
   "name": "python3"
  },
  "language_info": {
   "codemirror_mode": {
    "name": "ipython",
    "version": 3
   },
   "file_extension": ".py",
   "mimetype": "text/x-python",
   "name": "python",
   "nbconvert_exporter": "python",
   "pygments_lexer": "ipython3",
   "version": "3.7.0"
  }
 },
 "nbformat": 4,
 "nbformat_minor": 2
}
