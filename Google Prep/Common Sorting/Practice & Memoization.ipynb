{
 "cells": [
  {
   "cell_type": "code",
   "execution_count": 168,
   "metadata": {},
   "outputs": [],
   "source": [
    "# use n log n to sort the list\n",
    "# [5,4,3,2,1,8,4,7,9,8]\n",
    "\n",
    "def merge_sort(lst):\n",
    "    if len(lst) <= 1:\n",
    "        return lst\n",
    "    midpoint = int(len(lst) / 2)\n",
    "    left,right = merge_sort(lst[:midpoint]),merge_sort(lst[midpoint:])\n",
    "    \n",
    "    return merge(left,right)\n",
    "\n",
    "def merge(left,right):\n",
    "    result = []\n",
    "    left_pointer = right_pointer = 0\n",
    "    \n",
    "    #while we have elements in the left and right indices...\n",
    "    while left_pointer < len(left) and right_pointer < len(right):\n",
    "        \n",
    "        if left[left_pointer] < right[right_pointer]: #if the element in the left pointer on the left side is less than right, append to result array\n",
    "            result.append(left[left_pointer])\n",
    "            left_pointer += 1\n",
    "        else: \n",
    "            result.append(right[right_pointer])\n",
    "            right_pointer += 1\n",
    "        \n",
    "    result.extend(left[left_pointer:]) \n",
    "    result.extend(right[right_pointer:])\n",
    "        ## above, we take everything right and left of pointers and extend to the end of list\n",
    "    \n",
    "    return result\n",
    "    "
   ]
  },
  {
   "cell_type": "code",
   "execution_count": 169,
   "metadata": {},
   "outputs": [
    {
     "data": {
      "text/plain": [
       "[1, 2, 3, 45, 54, 63, 66, 76, 77, 78, 888, 889, 1000]"
      ]
     },
     "execution_count": 169,
     "metadata": {},
     "output_type": "execute_result"
    }
   ],
   "source": [
    "merge_sort([1,2,3,45,54,63,66,76,77,78,888,889,1000])"
   ]
  },
  {
   "cell_type": "code",
   "execution_count": 51,
   "metadata": {},
   "outputs": [
    {
     "data": {
      "text/plain": [
       "[1, 2, 3, 4, 5]"
      ]
     },
     "execution_count": 51,
     "metadata": {},
     "output_type": "execute_result"
    }
   ],
   "source": [
    "merge_sort([5,4,3,2,1])"
   ]
  },
  {
   "cell_type": "code",
   "execution_count": 171,
   "metadata": {},
   "outputs": [
    {
     "name": "stdout",
     "output_type": "stream",
     "text": [
      "<list_reverseiterator object at 0x105d47400>\n"
     ]
    }
   ],
   "source": [
    "rev = reversed(merge_sort([1,2,3,45,54,63,66,76,77,78,888,889,1000]))\n",
    "\n",
    "print(rev)"
   ]
  },
  {
   "cell_type": "code",
   "execution_count": 24,
   "metadata": {},
   "outputs": [],
   "source": [
    "## Hashtable\n",
    "\n",
    "def recurring(s):\n",
    "    counts = {}\n",
    "    \n",
    "    for char in s:\n",
    "        if char in counts:\n",
    "            return char\n",
    "        else:\n",
    "            counts[char] = 1\n",
    "    return \"No Recurring Letters\""
   ]
  },
  {
   "cell_type": "code",
   "execution_count": 25,
   "metadata": {},
   "outputs": [
    {
     "data": {
      "text/plain": [
       "'B'"
      ]
     },
     "execution_count": 25,
     "metadata": {},
     "output_type": "execute_result"
    }
   ],
   "source": [
    "recurring(\"DBCABA\")"
   ]
  },
  {
   "cell_type": "code",
   "execution_count": 26,
   "metadata": {},
   "outputs": [
    {
     "data": {
      "text/plain": [
       "'No Recurring Letters'"
      ]
     },
     "execution_count": 26,
     "metadata": {},
     "output_type": "execute_result"
    }
   ],
   "source": [
    "recurring(\"ABCDE\")"
   ]
  },
  {
   "cell_type": "code",
   "execution_count": null,
   "metadata": {},
   "outputs": [],
   "source": [
    "## build obj of node that contains data (value, pointer)\n",
    "## THEN build obj of root tree is based on\n",
    "\n",
    "class Node(object):\n",
    "    def __init__(self,value):\n",
    "        self.value = value\n",
    "        self.left = self.right = None\n",
    "    \n",
    "class BinaryTree(object):\n",
    "    def __init__(self,root):\n",
    "        self.root = Node(root)\n",
    "        \n",
    "        \n",
    "                \n",
    "        \n",
    "    "
   ]
  },
  {
   "cell_type": "code",
   "execution_count": 108,
   "metadata": {},
   "outputs": [
    {
     "name": "stdout",
     "output_type": "stream",
     "text": [
      "1\n",
      "2\n",
      "3\n",
      "4\n",
      "5\n",
      "6\n",
      "7\n",
      "8\n",
      "9\n",
      "10\n"
     ]
    }
   ],
   "source": [
    "def fib(n):\n",
    "    if n == 0 or n == 1:\n",
    "        return n\n",
    "    else:\n",
    "        return fib(n-1) + fib(n-2)\n",
    "    \n",
    "for n in range(1,11):\n",
    "    print(n)\n"
   ]
  },
  {
   "cell_type": "code",
   "execution_count": 109,
   "metadata": {},
   "outputs": [
    {
     "data": {
      "text/plain": [
       "2"
      ]
     },
     "execution_count": 109,
     "metadata": {},
     "output_type": "execute_result"
    }
   ],
   "source": [
    "fib(3)"
   ]
  },
  {
   "cell_type": "code",
   "execution_count": 110,
   "metadata": {},
   "outputs": [
    {
     "name": "stdout",
     "output_type": "stream",
     "text": [
      "1\n",
      "2\n",
      "3\n",
      "4\n",
      "5\n",
      "6\n",
      "7\n",
      "8\n",
      "9\n",
      "10\n"
     ]
    }
   ],
   "source": [
    "## Memoization\n",
    "\n",
    "fib_cache = {}\n",
    "\n",
    "def fib(n):\n",
    "    ## if we have cached the value, then return it\n",
    "    if n in fib_cache:\n",
    "        return fib_cache[n]\n",
    "    \n",
    "    ## compute nth term\n",
    "    if n == 0 or n == 1:\n",
    "        return n\n",
    "    else:\n",
    "        return fib(n-1) + fib(n-2)\n",
    "    \n",
    "    ##cahce the value and return it\n",
    "    fib_cache[0] = value\n",
    "    return value\n",
    "    \n",
    "    \n",
    "    \n",
    "    \n",
    "for n in range(1,11):\n",
    "    print(n)"
   ]
  },
  {
   "cell_type": "code",
   "execution_count": 25,
   "metadata": {},
   "outputs": [],
   "source": [
    "## run time is O(n)\n",
    "    # we are only moving from left to right\n",
    "    # n is the number of characters in the string\n",
    "    \n",
    "    \n",
    "# \"D,B,C,A,B,A\"\n",
    "def recur(string):\n",
    "    counts = {}\n",
    "    \n",
    "    for char in string: #for every character in the givern string\n",
    "        if char in counts: #if the char already is in counts dictionary\n",
    "            return char # return the character\n",
    "        else: #if not\n",
    "            counts[char] = 1 #add 1 to the counts hashtable\n",
    "    return None ##if there is no recurring , return None\n",
    "        \n",
    "        \n",
    "        "
   ]
  },
  {
   "cell_type": "code",
   "execution_count": 26,
   "metadata": {},
   "outputs": [
    {
     "data": {
      "text/plain": [
       "'B'"
      ]
     },
     "execution_count": 26,
     "metadata": {},
     "output_type": "execute_result"
    }
   ],
   "source": [
    "recur(\"DBCABA\")"
   ]
  },
  {
   "cell_type": "code",
   "execution_count": null,
   "metadata": {},
   "outputs": [],
   "source": [
    "\n"
   ]
  },
  {
   "cell_type": "code",
   "execution_count": 55,
   "metadata": {},
   "outputs": [
    {
     "data": {
      "text/plain": [
       "3.141592653589793"
      ]
     },
     "execution_count": 55,
     "metadata": {},
     "output_type": "execute_result"
    }
   ],
   "source": [
    "from math import pi\n",
    "\n",
    "pi*(True**2)"
   ]
  },
  {
   "cell_type": "code",
   "execution_count": 33,
   "metadata": {},
   "outputs": [
    {
     "data": {
      "text/plain": [
       "12.566370614359172"
      ]
     },
     "execution_count": 33,
     "metadata": {},
     "output_type": "execute_result"
    }
   ],
   "source": [
    "circle_pi(2)"
   ]
  },
  {
   "cell_type": "code",
   "execution_count": 34,
   "metadata": {},
   "outputs": [
    {
     "data": {
      "text/plain": [
       "3.141592653589793"
      ]
     },
     "execution_count": 34,
     "metadata": {},
     "output_type": "execute_result"
    }
   ],
   "source": [
    "circle_pi(True)"
   ]
  },
  {
   "cell_type": "code",
   "execution_count": 69,
   "metadata": {},
   "outputs": [],
   "source": [
    "def mergesort(lst):\n",
    "    if len(lst) <= 1:\n",
    "        return lst\n",
    "    midpoint = int(len(lst) / 2)\n",
    "    \n",
    "    left,right = mergesort(lst[:midpoint]),mergesort(lst[midpoint:])\n",
    "    \n",
    "    return merge(left,right)\n",
    "\n",
    "def merge(left,right):\n",
    "    result = []\n",
    "    left_pointer = right_pointer = 0\n",
    "    \n",
    "    while left_pointer < len(left) and right_pointer < len(right):\n",
    "        if left[left_pointer] < right[right_pointer]:\n",
    "            result.append(left[left_pointer])\n",
    "            left_pointer += 1\n",
    "        else:\n",
    "            result.append(right[right_pointer])\n",
    "            right_pointer += 1\n",
    "    result.extend(left[left_pointer:])\n",
    "    result.extend(right[right_pointer:])\n",
    "    \n",
    "    return result\n",
    "    \n",
    "    "
   ]
  },
  {
   "cell_type": "raw",
   "metadata": {},
   "source": []
  },
  {
   "cell_type": "code",
   "execution_count": 70,
   "metadata": {},
   "outputs": [
    {
     "data": {
      "text/plain": [
       "[1, 2, 3, 4, 5]"
      ]
     },
     "execution_count": 70,
     "metadata": {},
     "output_type": "execute_result"
    }
   ],
   "source": [
    "mergesort([5,4,3,2,1])"
   ]
  },
  {
   "cell_type": "code",
   "execution_count": 71,
   "metadata": {},
   "outputs": [
    {
     "data": {
      "text/plain": [
       "1"
      ]
     },
     "execution_count": 71,
     "metadata": {},
     "output_type": "execute_result"
    }
   ],
   "source": [
    "fib(2)"
   ]
  },
  {
   "cell_type": "code",
   "execution_count": 77,
   "metadata": {},
   "outputs": [
    {
     "ename": "TypeError",
     "evalue": "unsupported operand type(s) for -: 'list' and 'int'",
     "output_type": "error",
     "traceback": [
      "\u001b[0;31m---------------------------------------------------------------------------\u001b[0m",
      "\u001b[0;31mTypeError\u001b[0m                                 Traceback (most recent call last)",
      "\u001b[0;32m<ipython-input-77-eb1ad5426235>\u001b[0m in \u001b[0;36m<module>\u001b[0;34m()\u001b[0m\n\u001b[0;32m----> 1\u001b[0;31m \u001b[0mfib\u001b[0m\u001b[0;34m(\u001b[0m\u001b[0;34m[\u001b[0m\u001b[0;36m0\u001b[0m\u001b[0;34m,\u001b[0m\u001b[0;36m1\u001b[0m\u001b[0;34m,\u001b[0m\u001b[0;36m2\u001b[0m\u001b[0;34m,\u001b[0m\u001b[0;36m3\u001b[0m\u001b[0;34m,\u001b[0m\u001b[0;36m4\u001b[0m\u001b[0;34m]\u001b[0m\u001b[0;34m)\u001b[0m\u001b[0;34m\u001b[0m\u001b[0m\n\u001b[0m",
      "\u001b[0;32m<ipython-input-5-af483c3f4099>\u001b[0m in \u001b[0;36mfib\u001b[0;34m(n)\u001b[0m\n\u001b[1;32m      3\u001b[0m         \u001b[0;32mreturn\u001b[0m \u001b[0mn\u001b[0m\u001b[0;34m\u001b[0m\u001b[0m\n\u001b[1;32m      4\u001b[0m     \u001b[0;32melse\u001b[0m\u001b[0;34m:\u001b[0m\u001b[0;34m\u001b[0m\u001b[0m\n\u001b[0;32m----> 5\u001b[0;31m         \u001b[0;32mreturn\u001b[0m \u001b[0mfib\u001b[0m\u001b[0;34m(\u001b[0m\u001b[0mn\u001b[0m\u001b[0;34m-\u001b[0m\u001b[0;36m1\u001b[0m\u001b[0;34m)\u001b[0m \u001b[0;34m+\u001b[0m \u001b[0mfib\u001b[0m\u001b[0;34m(\u001b[0m\u001b[0mn\u001b[0m\u001b[0;34m-\u001b[0m\u001b[0;36m2\u001b[0m\u001b[0;34m)\u001b[0m\u001b[0;34m\u001b[0m\u001b[0m\n\u001b[0m",
      "\u001b[0;31mTypeError\u001b[0m: unsupported operand type(s) for -: 'list' and 'int'"
     ]
    }
   ],
   "source": [
    "fib([0,1,2,3,4])"
   ]
  },
  {
   "cell_type": "code",
   "execution_count": 111,
   "metadata": {},
   "outputs": [
    {
     "data": {
      "text/plain": [
       "4"
      ]
     },
     "execution_count": 111,
     "metadata": {},
     "output_type": "execute_result"
    }
   ],
   "source": [
    "3+1"
   ]
  },
  {
   "cell_type": "code",
   "execution_count": null,
   "metadata": {},
   "outputs": [],
   "source": [
    "def search(lst,n):\n",
    "    lower = 0 # always start at 0\n",
    "    upper = len(lst) - 1\n",
    "    \n",
    "    ## now we have upper and lower lets apply a loop\n",
    "    while lower <= upper: # lower should always be <= upper\n",
    "        mid = (lower + upper) // 2 ##get mid index\n",
    "        \n",
    "        if lst[mid] == n: #find value for mid index and if n, job is done\n",
    "            return \"Found\"\n",
    "        else:\n",
    "            if lst[mid] < n: ## if not, we have to change lower bound and upper\n",
    "                upper = mid\n",
    "                \n",
    "lst = [4,7,8,12,45,99]\n",
    "n = 45  \n",
    "\n",
    "\n",
    "\n"
   ]
  },
  {
   "cell_type": "code",
   "execution_count": null,
   "metadata": {},
   "outputs": [],
   "source": [
    "search(lst,n)"
   ]
  },
  {
   "cell_type": "code",
   "execution_count": null,
   "metadata": {},
   "outputs": [],
   "source": []
  },
  {
   "cell_type": "code",
   "execution_count": null,
   "metadata": {},
   "outputs": [],
   "source": []
  },
  {
   "cell_type": "code",
   "execution_count": 1,
   "metadata": {},
   "outputs": [
    {
     "ename": "SyntaxError",
     "evalue": "invalid syntax (<ipython-input-1-f564380c8d74>, line 12)",
     "output_type": "error",
     "traceback": [
      "\u001b[0;36m  File \u001b[0;32m\"<ipython-input-1-f564380c8d74>\"\u001b[0;36m, line \u001b[0;32m12\u001b[0m\n\u001b[0;31m    for i from (given_array.length - 1)down to 0:\u001b[0m\n\u001b[0m             ^\u001b[0m\n\u001b[0;31mSyntaxError\u001b[0m\u001b[0;31m:\u001b[0m invalid syntax\n"
     ]
    }
   ],
   "source": [
    "## [1,3,4] --> [1,3,5]\n",
    "## [1,9,9] --> [2,0,0] carry the one \n",
    "## [9,9,9] --> [1,0,0,0] edge case\n",
    "# input is array and output os new array with added one\n",
    "\n",
    "def add_one(given_array):\n",
    "    ##carry = 1 carry into the next item\n",
    "    ##result will equal new array as int()\n",
    "    \n",
    "    carry = 1\n",
    "    result = new[given_array.length]\n",
    "    for i from (given_array.length - 1)down to 0:\n",
    "        sum = given_array[i] + carry\n",
    "        if sum == 10:\n",
    "            carry = 1\n",
    "        else:\n",
    "            carry = 0\n",
    "            result\n",
    "    "
   ]
  },
  {
   "cell_type": "code",
   "execution_count": 50,
   "metadata": {},
   "outputs": [],
   "source": [
    "# take in lst and target as parameter\n",
    "# if the length of the list is 0 or if the len of lst is 1 and the lst[0] does not equal the target\n",
    "    ## return false\n",
    "    \n",
    "## create mid vaiable\n",
    "    ## len of lst // 2\n",
    "\n",
    "## if the the value is equal to mid \n",
    "    # we found it\n",
    "## if the value < mid\n",
    "    ## recurse with 1 half of list\n",
    "##if the value > mid\n",
    "    ## return recurse with send half\n",
    "    \n",
    "\n",
    "  \n",
    "    "
   ]
  },
  {
   "cell_type": "code",
   "execution_count": 153,
   "metadata": {},
   "outputs": [],
   "source": [
    "\n",
    "\n",
    "def merge_sort(lst):\n",
    "    if len(lst) <= 1:\n",
    "        return lst\n",
    "    midpoint = int(len(lst) / 2)\n",
    "    \n",
    "    left,right = merge_sort(lst[:midpoint]), merge_sort(lst[midpoint:])\n",
    "    \n",
    "    return merge(left,right)\n",
    "\n",
    "def merge(left,right):\n",
    "    result = []\n",
    "    left_pointer = right_pointer = 0\n",
    "    \n",
    "    while left_pointer < len(left) and right_pointer < len(left):\n",
    "        if left[left_pointer] < right[right_pointer]:\n",
    "            result.append(left[left_pointer])\n",
    "            left_pointer += 1 ## increment so we do not add the same element again\n",
    "        else:\n",
    "            result.append(right[right_pointer])\n",
    "            right_pointer += 1\n",
    "            \n",
    "    result.extend(left[left_pointer:])\n",
    "    result.extend(right[right_pointer:])\n",
    "    \n",
    "    return result\n",
    "                \n",
    "        \n",
    "        "
   ]
  },
  {
   "cell_type": "code",
   "execution_count": 154,
   "metadata": {},
   "outputs": [
    {
     "data": {
      "text/plain": [
       "[-5, -3, 0, 2, 1, 4]"
      ]
     },
     "execution_count": 154,
     "metadata": {},
     "output_type": "execute_result"
    }
   ],
   "source": [
    "merge_sort([-5,4,-3,2,1,0])"
   ]
  },
  {
   "cell_type": "code",
   "execution_count": 4,
   "metadata": {},
   "outputs": [],
   "source": [
    "# take in the array and target\n",
    "# if the array length is 0 or array length is 1 and array[0] not equal to target\n",
    "    # return false\n",
    "    \n",
    "# set mid vaiable\n",
    "    ## array length // 2\n",
    "    \n",
    "# if val is mid\n",
    "    # return True\n",
    "# if val < mid\n",
    "    # return recursive with first half of array and target\n",
    "# val > mid\n",
    "    # return recursive with second half of array and target\n",
    "   \n",
    "\n",
    "lst = [1,2,3,4,5,14,20,25,75,79,100]\n",
    "\n",
    "def searching(lst,val):\n",
    "    if len(lst) == 0 or (len(lst) == 1 and lst[0] != val):\n",
    "        return False\n",
    "    \n",
    "    mid = lst[len(lst) // 2]\n",
    "    \n",
    "    if val == mid:\n",
    "        return True\n",
    "    if val < mid:\n",
    "        return searching(lst[:len(lst) // 2],val)\n",
    "    if val > mid:\n",
    "        return searching(lst[len(lst) // 2+1:],val)\n",
    "    \n",
    "    \n",
    "    \n",
    "    "
   ]
  },
  {
   "cell_type": "code",
   "execution_count": 6,
   "metadata": {},
   "outputs": [
    {
     "data": {
      "text/plain": [
       "False"
      ]
     },
     "execution_count": 6,
     "metadata": {},
     "output_type": "execute_result"
    }
   ],
   "source": [
    "searching(lst,26)"
   ]
  },
  {
   "cell_type": "code",
   "execution_count": 27,
   "metadata": {},
   "outputs": [],
   "source": [
    "class Node():\n",
    "    def __init__(self,value=None):\n",
    "        self.value = value\n",
    "        self.left = self.right = None\n",
    "        \n",
    "class Tree():\n",
    "    def __init__ (self):\n",
    "        self.root = None\n",
    "        \n",
    "    def print_tree(self,traversal_type):\n",
    "        if traversal_type == \"preorder\":\n",
    "            return self.preorder(tree.root,\"\")\n",
    "        elif traversal_type == \"preorder\":\n",
    "            return self.inorder(tree.root,\"\")\n",
    "        elif traversal_type == \"postorder\":\n",
    "            return self.postorder(tree.root,\"\")\n",
    "        else:\n",
    "            \"Not Applicable\"\n",
    "    \n",
    "    def preorder(self,start,traversal):\n",
    "        if start:\n",
    "            traversal += (str(start.value) + \" \")\n",
    "            traversal = self.preorder(start.left, traversal)\n",
    "            traversal = self.preorder(start.right, traversal)\n",
    "        return traversal\n",
    "     \n",
    "    def inorder(self,start,traversal):\n",
    "        if start:\n",
    "            traversal = self.preorder(start.left, traversal)\n",
    "            traversal += (str(self.value) + \" \") \n",
    "            traversal = self.preorder(start.right, traversal) \n",
    "        return traversal\n",
    "            \n",
    "    def postorder(self,start,traversal):\n",
    "        if start:\n",
    "            traversal = self.preorder(start.left, traversal)\n",
    "            traversal = self.preorder(start.right, traversal)            \n",
    "            traversal += (str(self.value) + \" \")\n",
    "        return traversal\n",
    "    \n",
    "    \n",
    "    \n",
    "#     def insert(self, value):\n",
    "#         if self.root is None:\n",
    "#             self.root = Node(value)\n",
    "#         else:\n",
    "#             self._insert(value, self.root)\n",
    "\n",
    "    def insert(root,node): \n",
    "        if root is None: \n",
    "            root = node \n",
    "        else: \n",
    "            if root.value < node.value: \n",
    "                if root.right is None: \n",
    "                    root.right = node \n",
    "                else: \n",
    "                    insert(root.right, node) \n",
    "            else: \n",
    "                if root.left is None: \n",
    "                    root.left = node \n",
    "                else: \n",
    "                    insert(root.left, node) \n",
    "        \n",
    "    def _insert(self,value,cur_node):\n",
    "        if value < cur_node.value:\n",
    "            if cur_node.left is None:\n",
    "                cur_node.left = Node(value)\n",
    "            else:\n",
    "                self._insert(value, cur_node.left)\n",
    "                \n",
    "        elif value > cur_node.value:\n",
    "            if cur_node.right is None:\n",
    "                cur_node.right = Node(value)\n",
    "            else:\n",
    "                self.insert(value, cur_node.right)\n",
    "        else:\n",
    "            print(\"Value is present in tree\")\n",
    "    \n",
    "    \n",
    "tree = Tree()\n",
    "\n",
    "\n",
    "    "
   ]
  },
  {
   "cell_type": "code",
   "execution_count": 28,
   "metadata": {},
   "outputs": [],
   "source": [
    "## if the length is equal to zero or length is equal to 1 and lst not equal val\n",
    "    # return false\n",
    "    \n",
    "##set mid to length // 2\n",
    "\n",
    "##if val == . mid\n",
    "    # return True\n",
    "##if the val is less than mid \n",
    "    ## return BS with first half and val as parameter\n",
    "##if the val is greater than mid \n",
    "    ## return BS with second half and val as parameter\n",
    "\n",
    "def binary_search(lst,val):\n",
    "    if len(lst) == 0 or (len(lst) == 1 and l[0] != val):\n",
    "        return False\n",
    "    \n",
    "    mid = lst[len(lst) // 2] \n",
    "    \n",
    "    if val == mid:\n",
    "        return True\n",
    "    if val < mid:\n",
    "        return binary_search(lst[:len(lst) // 2], val) \n",
    "    if val > mid:\n",
    "        return binary_search(lst[len(lst) // 2+1:], val)\n",
    "    \n",
    "    "
   ]
  },
  {
   "cell_type": "code",
   "execution_count": 29,
   "metadata": {},
   "outputs": [
    {
     "data": {
      "text/plain": [
       "True"
      ]
     },
     "execution_count": 29,
     "metadata": {},
     "output_type": "execute_result"
    }
   ],
   "source": [
    "binary_search([0,1,2,3,4,5,6,7,8,9],4)"
   ]
  },
  {
   "cell_type": "code",
   "execution_count": 30,
   "metadata": {},
   "outputs": [
    {
     "ename": "AttributeError",
     "evalue": "'Tree' object has no attribute 'value'",
     "output_type": "error",
     "traceback": [
      "\u001b[0;31m---------------------------------------------------------------------------\u001b[0m",
      "\u001b[0;31mAttributeError\u001b[0m                            Traceback (most recent call last)",
      "\u001b[0;32m<ipython-input-30-b73769b5e096>\u001b[0m in \u001b[0;36m<module>\u001b[0;34m()\u001b[0m\n\u001b[0;32m----> 1\u001b[0;31m \u001b[0mtree\u001b[0m\u001b[0;34m.\u001b[0m\u001b[0minsert\u001b[0m\u001b[0;34m(\u001b[0m\u001b[0;36m4\u001b[0m\u001b[0;34m)\u001b[0m\u001b[0;34m\u001b[0m\u001b[0m\n\u001b[0m",
      "\u001b[0;32m<ipython-input-27-1025954d1dbf>\u001b[0m in \u001b[0;36minsert\u001b[0;34m(root, node)\u001b[0m\n\u001b[1;32m     51\u001b[0m             \u001b[0mroot\u001b[0m \u001b[0;34m=\u001b[0m \u001b[0mnode\u001b[0m\u001b[0;34m\u001b[0m\u001b[0m\n\u001b[1;32m     52\u001b[0m         \u001b[0;32melse\u001b[0m\u001b[0;34m:\u001b[0m\u001b[0;34m\u001b[0m\u001b[0m\n\u001b[0;32m---> 53\u001b[0;31m             \u001b[0;32mif\u001b[0m \u001b[0mroot\u001b[0m\u001b[0;34m.\u001b[0m\u001b[0mvalue\u001b[0m \u001b[0;34m<\u001b[0m \u001b[0mnode\u001b[0m\u001b[0;34m.\u001b[0m\u001b[0mvalue\u001b[0m\u001b[0;34m:\u001b[0m\u001b[0;34m\u001b[0m\u001b[0m\n\u001b[0m\u001b[1;32m     54\u001b[0m                 \u001b[0;32mif\u001b[0m \u001b[0mroot\u001b[0m\u001b[0;34m.\u001b[0m\u001b[0mright\u001b[0m \u001b[0;32mis\u001b[0m \u001b[0;32mNone\u001b[0m\u001b[0;34m:\u001b[0m\u001b[0;34m\u001b[0m\u001b[0m\n\u001b[1;32m     55\u001b[0m                     \u001b[0mroot\u001b[0m\u001b[0;34m.\u001b[0m\u001b[0mright\u001b[0m \u001b[0;34m=\u001b[0m \u001b[0mnode\u001b[0m\u001b[0;34m\u001b[0m\u001b[0m\n",
      "\u001b[0;31mAttributeError\u001b[0m: 'Tree' object has no attribute 'value'"
     ]
    }
   ],
   "source": [
    "tree.insert(4)\n"
   ]
  },
  {
   "cell_type": "code",
   "execution_count": 21,
   "metadata": {},
   "outputs": [],
   "source": [
    "tree.insert(10)"
   ]
  },
  {
   "cell_type": "code",
   "execution_count": 23,
   "metadata": {},
   "outputs": [
    {
     "name": "stdout",
     "output_type": "stream",
     "text": [
      "Value is present in tree\n"
     ]
    }
   ],
   "source": [
    "tree.insert(4)\n",
    "\n",
    "\n"
   ]
  },
  {
   "cell_type": "code",
   "execution_count": 25,
   "metadata": {},
   "outputs": [
    {
     "data": {
      "text/plain": [
       "'4 10 '"
      ]
     },
     "execution_count": 25,
     "metadata": {},
     "output_type": "execute_result"
    }
   ],
   "source": [
    "tree.print_tree(\"preorder\")"
   ]
  },
  {
   "cell_type": "code",
   "execution_count": null,
   "metadata": {},
   "outputs": [],
   "source": []
  },
  {
   "cell_type": "code",
   "execution_count": null,
   "metadata": {},
   "outputs": [],
   "source": []
  },
  {
   "cell_type": "code",
   "execution_count": null,
   "metadata": {},
   "outputs": [],
   "source": []
  },
  {
   "cell_type": "code",
   "execution_count": 138,
   "metadata": {},
   "outputs": [],
   "source": [
    "class Node: \n",
    "    def __init__(self,key): \n",
    "        self.left = None\n",
    "        self.right = None\n",
    "        self.val = key ##key makes it an integer\n",
    "        \n",
    "        \n",
    "def insert(root,node): \n",
    "    if root is None: \n",
    "        root = node \n",
    "    else: \n",
    "        if root.val < node.val: \n",
    "            if root.right is None: \n",
    "                root.right = node \n",
    "            else: \n",
    "                insert(root.right, node) \n",
    "        elif root.val > node.val: \n",
    "            if root.left is None: \n",
    "                root.left = node \n",
    "            else: \n",
    "                insert(root.left, node) \n",
    "        else:\n",
    "            print(\"Value is present in tree\")\n",
    "       \n",
    "    \n",
    "def preorder(root):\n",
    "    if root:\n",
    "        print(root.val)\n",
    "        postorder(root.left)\n",
    "        postorder(root.right)\n",
    "        \n",
    "def inorder(root): \n",
    "    if root: \n",
    "        inorder(root.left) \n",
    "        print(root.val) \n",
    "        inorder(root.right) \n",
    "        \n",
    "def postorder(root):\n",
    "    if root:\n",
    "        postorder(root.left)\n",
    "        postorder(root.right)\n",
    "        print(root.val)\n",
    "\n",
    "\n"
   ]
  },
  {
   "cell_type": "code",
   "execution_count": 139,
   "metadata": {},
   "outputs": [],
   "source": [
    "tree = Node(10)"
   ]
  },
  {
   "cell_type": "code",
   "execution_count": 93,
   "metadata": {},
   "outputs": [],
   "source": [
    "insert(tree,Node(45))"
   ]
  },
  {
   "cell_type": "code",
   "execution_count": 94,
   "metadata": {},
   "outputs": [
    {
     "name": "stdout",
     "output_type": "stream",
     "text": [
      "10\n",
      "45\n"
     ]
    }
   ],
   "source": [
    "inorder(tree)"
   ]
  },
  {
   "cell_type": "code",
   "execution_count": 95,
   "metadata": {},
   "outputs": [],
   "source": [
    "insert(tree,Node(8))\n",
    "insert(tree,Node(30))\n",
    "insert(tree,Node(20))"
   ]
  },
  {
   "cell_type": "code",
   "execution_count": 96,
   "metadata": {},
   "outputs": [
    {
     "name": "stdout",
     "output_type": "stream",
     "text": [
      "8\n",
      "10\n",
      "20\n",
      "30\n",
      "45\n"
     ]
    }
   ],
   "source": [
    "inorder(tree)"
   ]
  },
  {
   "cell_type": "code",
   "execution_count": 97,
   "metadata": {},
   "outputs": [
    {
     "name": "stdout",
     "output_type": "stream",
     "text": [
      "Value is present in tree\n"
     ]
    }
   ],
   "source": [
    "insert(tree,Node(8))"
   ]
  },
  {
   "cell_type": "code",
   "execution_count": 98,
   "metadata": {},
   "outputs": [
    {
     "name": "stdout",
     "output_type": "stream",
     "text": [
      "8\n",
      "10\n",
      "20\n",
      "30\n",
      "45\n"
     ]
    }
   ],
   "source": [
    "inorder(tree)"
   ]
  },
  {
   "cell_type": "code",
   "execution_count": 99,
   "metadata": {},
   "outputs": [
    {
     "name": "stdout",
     "output_type": "stream",
     "text": [
      "8\n",
      "20\n",
      "30\n",
      "45\n",
      "10\n"
     ]
    }
   ],
   "source": [
    "postorder(tree)"
   ]
  },
  {
   "cell_type": "code",
   "execution_count": 134,
   "metadata": {},
   "outputs": [],
   "source": [
    "lst = [40,50,60,70]\n",
    "\n"
   ]
  },
  {
   "cell_type": "code",
   "execution_count": 135,
   "metadata": {},
   "outputs": [
    {
     "name": "stdout",
     "output_type": "stream",
     "text": [
      "8\n",
      "10\n",
      "20\n",
      "30\n",
      "45\n"
     ]
    }
   ],
   "source": [
    "inorder(tree)"
   ]
  },
  {
   "cell_type": "code",
   "execution_count": 136,
   "metadata": {},
   "outputs": [],
   "source": [
    "insert_loop()"
   ]
  },
  {
   "cell_type": "code",
   "execution_count": 132,
   "metadata": {},
   "outputs": [
    {
     "name": "stdout",
     "output_type": "stream",
     "text": [
      "40\n",
      "50\n",
      "60\n",
      "70\n"
     ]
    }
   ],
   "source": [
    "for num in lst:\n",
    "    print(num)"
   ]
  },
  {
   "cell_type": "code",
   "execution_count": 133,
   "metadata": {},
   "outputs": [
    {
     "name": "stdout",
     "output_type": "stream",
     "text": [
      "40\n",
      "50\n",
      "60\n",
      "70\n"
     ]
    }
   ],
   "source": [
    "insert_loop()"
   ]
  },
  {
   "cell_type": "code",
   "execution_count": 137,
   "metadata": {},
   "outputs": [
    {
     "name": "stdout",
     "output_type": "stream",
     "text": [
      "8\n",
      "10\n",
      "20\n",
      "30\n",
      "40\n",
      "45\n",
      "50\n",
      "60\n",
      "70\n"
     ]
    }
   ],
   "source": [
    "inorder(tree)"
   ]
  },
  {
   "cell_type": "code",
   "execution_count": 151,
   "metadata": {},
   "outputs": [
    {
     "name": "stdout",
     "output_type": "stream",
     "text": [
      "15\n"
     ]
    }
   ],
   "source": [
    "lst = [1,2,3,4,5]\n",
    "sum = 0\n",
    "\n",
    "for num in lst:\n",
    "    sum += num\n",
    "    \n",
    "print(sum)"
   ]
  },
  {
   "cell_type": "code",
   "execution_count": 156,
   "metadata": {},
   "outputs": [
    {
     "data": {
      "text/plain": [
       "[1, 2, 3, 4, 5]"
      ]
     },
     "execution_count": 156,
     "metadata": {},
     "output_type": "execute_result"
    }
   ],
   "source": [
    "sorted([5,4,3,2,1])"
   ]
  },
  {
   "cell_type": "code",
   "execution_count": 157,
   "metadata": {},
   "outputs": [
    {
     "data": {
      "text/plain": [
       "[1, 3, 4, 5, 2]"
      ]
     },
     "execution_count": 157,
     "metadata": {},
     "output_type": "execute_result"
    }
   ],
   "source": [
    "merge_sort([5,4,3,2,1])"
   ]
  },
  {
   "cell_type": "code",
   "execution_count": 172,
   "metadata": {},
   "outputs": [],
   "source": [
    "class Node():\n",
    "    def __init__(self,key):\n",
    "        self.value = key\n",
    "        self.left = self.right = none\n",
    "def insert(root,node):\n",
    "    if root is None:\n",
    "        root = node"
   ]
  },
  {
   "cell_type": "code",
   "execution_count": 187,
   "metadata": {},
   "outputs": [],
   "source": [
    "def binary_search(lst,target):\n",
    "    if len(lst) == 0 or (len(lst) == 1 and lst[0] != target):\n",
    "        return False\n",
    "    \n",
    "    mid = lst[len(lst) // 2]\n",
    "    \n",
    "    if target == mid:\n",
    "        return True\n",
    "    if target < mid:\n",
    "        return binary_search(lst[:len(lst) // 2],target)\n",
    "    if target > mid:\n",
    "        return binary_search(lst[len(lst) // 2+1:],target)"
   ]
  },
  {
   "cell_type": "code",
   "execution_count": 188,
   "metadata": {},
   "outputs": [
    {
     "data": {
      "text/plain": [
       "True"
      ]
     },
     "execution_count": 188,
     "metadata": {},
     "output_type": "execute_result"
    }
   ],
   "source": [
    "lst = [12, 13, 56, 76, 456, 468, 500, 700, 1001, 2008, 2020]\n",
    "\n",
    "binary_search(lst,12)"
   ]
  },
  {
   "cell_type": "code",
   "execution_count": 181,
   "metadata": {},
   "outputs": [
    {
     "data": {
      "text/plain": [
       "[12, 13, 56, 76, 456, 468, 500, 700, 1001, 2008, 2020]"
      ]
     },
     "execution_count": 181,
     "metadata": {},
     "output_type": "execute_result"
    }
   ],
   "source": [
    "merge_sort(lst)"
   ]
  },
  {
   "cell_type": "code",
   "execution_count": null,
   "metadata": {},
   "outputs": [],
   "source": []
  }
 ],
 "metadata": {
  "kernelspec": {
   "display_name": "Python 3",
   "language": "python",
   "name": "python3"
  },
  "language_info": {
   "codemirror_mode": {
    "name": "ipython",
    "version": 3
   },
   "file_extension": ".py",
   "mimetype": "text/x-python",
   "name": "python",
   "nbconvert_exporter": "python",
   "pygments_lexer": "ipython3",
   "version": "3.7.0"
  }
 },
 "nbformat": 4,
 "nbformat_minor": 2
}
