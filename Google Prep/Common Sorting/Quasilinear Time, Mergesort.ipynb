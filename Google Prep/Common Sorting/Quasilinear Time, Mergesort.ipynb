{
 "cells": [
  {
   "cell_type": "code",
   "execution_count": 3,
   "metadata": {},
   "outputs": [],
   "source": [
    "## this is when each operation in the input \n",
    "## data have a logarithm time complexity. \n",
    "\n",
    "## It is commonly seen in sorting algorithms \n",
    "    ## mergesort, timsort, heapsort\n",
    "\n",
    "##MergeSort is a recursive method (method that calls itself)\n",
    "    ## Divide and conquer algorithm\n",
    "    ## Very efficient for large data sets\n",
    "    \n",
    "\n",
    "##   O(n log n)\n",
    "    ## n work merge step and do n merge steps\n"
   ]
  },
  {
   "cell_type": "code",
   "execution_count": 5,
   "metadata": {},
   "outputs": [],
   "source": [
    "## user only has to pass in list A\n",
    "    ## THEN we'll have a recurive mergeSort called merge_sort2\n",
    "    ## we'll pass in list A, along with start index and ending index\n",
    "def merge_sort(A):\n",
    "    merge_sort2(A, 0, len(A)-1)\n",
    "    \n",
    "\n",
    "\n",
    "def merge_sort2(A, first, last): ## THEN in merge_sort2, this will receive A, first and last indices\n",
    "    if first < last:  ## IF first < last (if there is more than one item in the list)\n",
    "        middle = (first + last)//2  ## THEN we need to break the list in half\n",
    "        merge_sort2(A, first, last) ## call merge_sort2 on first half\n",
    "        merge_sort2(A, middle+1, last) ## call merge_sort2 on second half\n",
    "        merge(A, first, middle, last) ##then combine together\n",
    "        \n",
    "        \n",
    "    "
   ]
  },
  {
   "cell_type": "code",
   "execution_count": 11,
   "metadata": {},
   "outputs": [
    {
     "name": "stdout",
     "output_type": "stream",
     "text": [
      "[5, 4, 3, 2, 1]\n",
      "[1, 2, 3, 4, 5]\n"
     ]
    }
   ],
   "source": [
    "def mergesort(lst):\n",
    "    \n",
    "    if len(lst) <= 1:\n",
    "        return lst\n",
    "    \n",
    "    midpoint = int(len(lst) / 2) ## middle of the list\n",
    "    \n",
    "    left,right = mergesort(lst[:midpoint]), mergesort(lst[midpoint:]) \n",
    "            ## recursive call, and each half of list\n",
    "                ## one half is from start to midpoint\n",
    "                ## second half is from midpoint to end\n",
    "    return merge(left, right) ## return a new function we will call merge, takes in left and right half of lists\n",
    "\n",
    "\n",
    "def merge(left,right):\n",
    "    result = [] ## we need a result array\n",
    "    left_pointer = right_pointer = 0 ## these are the left and right indices\n",
    "    \n",
    "    ## while there are elements in the left and right lists\n",
    "    while left_pointer < len(left) and right_pointer < len(right):  ## if left pointer is less than the length of the left list and right pointer is less than the right list\n",
    "        ## while there are elements in both arrays\n",
    "        ## we need to check which is lower\n",
    "        \n",
    "        if left[left_pointer] < right[right_pointer]: ##if the element in the left pointer in the left list is less than the right list pointer\n",
    "            ## we know the left array element is smaller\n",
    "            result.append(left[left_pointer])## append result to result list\n",
    "            left_pointer += 1 ## increment left pointer\n",
    "        \n",
    "        else:\n",
    "            result.append(right[right_pointer])\n",
    "            right_pointer += 1\n",
    "            \n",
    "    \n",
    "    ##if this is not the case and the while loop does not trigger\n",
    "        ## THEN we know that there are elements in the right list or left list\n",
    "    result.extend(left[left_pointer:])## take everything from right pointer and extending to end\n",
    "    result.extend(right[right_pointer:])## ake everything from left pointer and extending to end\n",
    "    \n",
    "    return result\n",
    "\n",
    "\n",
    "def main():\n",
    "    lst = [5,4,3,2,1] ##start with initial list \n",
    "    print(lst)\n",
    "    \n",
    "    result = mergesort(lst) ## result set equal to a mergesort of initial list\n",
    "    print(result)\n",
    "    \n",
    "if __name__ == \"__main__\":\n",
    "    main()\n",
    "    \n",
    "    "
   ]
  },
  {
   "cell_type": "code",
   "execution_count": 12,
   "metadata": {},
   "outputs": [
    {
     "data": {
      "text/plain": [
       "[1, 2, 3, 4, 5]"
      ]
     },
     "execution_count": 12,
     "metadata": {},
     "output_type": "execute_result"
    }
   ],
   "source": [
    "mergesort([5,4,3,2,1])"
   ]
  },
  {
   "cell_type": "code",
   "execution_count": 13,
   "metadata": {},
   "outputs": [],
   "source": [
    "def mergesort(lst):\n",
    "    \n",
    "    if len(lst) <= 1:\n",
    "        return lst\n",
    "    \n",
    "    midpoint = int(len(lst) / 2) \n",
    "    \n",
    "    left,right = mergesort(lst[:midpoint]), mergesort(lst[midpoint:]) \n",
    "    \n",
    "    return merge(left, right) \n",
    "\n",
    "\n",
    "def merge(left,right):\n",
    "    result = [] \n",
    "    left_pointer = right_pointer = 0 \n",
    "    \n",
    "    while left_pointer < len(left) and right_pointer < len(right): \n",
    "        \n",
    "        \n",
    "        if left[left_pointer] < right[right_pointer]:\n",
    "         \n",
    "            result.append(left[left_pointer])\n",
    "            left_pointer += 1 \n",
    "        \n",
    "        else:\n",
    "            result.append(right[right_pointer])\n",
    "            right_pointer += 1\n",
    "            \n",
    "    \n",
    "\n",
    "    result.extend(left[left_pointer:])\n",
    "    result.extend(right[right_pointer:])\n",
    "    \n",
    "    return result"
   ]
  },
  {
   "cell_type": "code",
   "execution_count": 18,
   "metadata": {},
   "outputs": [
    {
     "data": {
      "text/plain": [
       "[2, 3, 4, 4, 5, 6, 7, 8, 9, 34, 55, 567, 8765]"
      ]
     },
     "execution_count": 18,
     "metadata": {},
     "output_type": "execute_result"
    }
   ],
   "source": [
    "mergesort([34,55,4,8765,4,567,3,2,5,7,8,9,6])\n",
    "\n"
   ]
  },
  {
   "cell_type": "code",
   "execution_count": null,
   "metadata": {},
   "outputs": [],
   "source": []
  }
 ],
 "metadata": {
  "kernelspec": {
   "display_name": "Python 3",
   "language": "python",
   "name": "python3"
  },
  "language_info": {
   "codemirror_mode": {
    "name": "ipython",
    "version": 3
   },
   "file_extension": ".py",
   "mimetype": "text/x-python",
   "name": "python",
   "nbconvert_exporter": "python",
   "pygments_lexer": "ipython3",
   "version": "3.7.0"
  }
 },
 "nbformat": 4,
 "nbformat_minor": 2
}
