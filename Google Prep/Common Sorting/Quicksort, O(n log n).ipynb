{
 "cells": [
  {
   "cell_type": "code",
   "execution_count": 1,
   "metadata": {},
   "outputs": [],
   "source": [
    "## Similar to mergesort, it is a devide and conquer algo\n",
    "\n",
    "## We first select a single element to be the pivot\n",
    "    ## can pick any but its perferrable to pick middle\n",
    "## but since its unsorted, we won;t know until end of algo\n",
    "\n",
    "## After selecting pivot value,\n",
    "##  We partition all elements smaller than middle are left and right is vice versa\n",
    "## then recursivly call quicksirt for left \n",
    "    ## stitch lists together and receive final sort\n",
    "\n",
    "\n"
   ]
  },
  {
   "cell_type": "code",
   "execution_count": 24,
   "metadata": {},
   "outputs": [],
   "source": [
    "def sort(array):\n",
    "    less = []\n",
    "    equal = []\n",
    "    greater = []\n",
    "    \n",
    "    \n",
    "    if len(array) > 1:\n",
    "        pivot = array[0]\n",
    "        for x in array:\n",
    "            if x < pivot:\n",
    "                less.append(x)\n",
    "            elif x == pivot:\n",
    "                equal.append(x)\n",
    "            elif x > pivot:\n",
    "                greater.append(x)\n",
    "        return sort(less) + equal + sort(greater)  \n",
    "    else: \n",
    "        return array"
   ]
  },
  {
   "cell_type": "code",
   "execution_count": 25,
   "metadata": {},
   "outputs": [
    {
     "data": {
      "text/plain": [
       "[1, 3, 4, 5, 6, 7, 12, 15]"
      ]
     },
     "execution_count": 25,
     "metadata": {},
     "output_type": "execute_result"
    }
   ],
   "source": [
    "sort([12,4,5,6,7,3,1,15])"
   ]
  },
  {
   "cell_type": "code",
   "execution_count": null,
   "metadata": {},
   "outputs": [],
   "source": []
  },
  {
   "cell_type": "code",
   "execution_count": null,
   "metadata": {},
   "outputs": [],
   "source": []
  }
 ],
 "metadata": {
  "kernelspec": {
   "display_name": "Python 3",
   "language": "python",
   "name": "python3"
  },
  "language_info": {
   "codemirror_mode": {
    "name": "ipython",
    "version": 3
   },
   "file_extension": ".py",
   "mimetype": "text/x-python",
   "name": "python",
   "nbconvert_exporter": "python",
   "pygments_lexer": "ipython3",
   "version": "3.7.0"
  }
 },
 "nbformat": 4,
 "nbformat_minor": 2
}
