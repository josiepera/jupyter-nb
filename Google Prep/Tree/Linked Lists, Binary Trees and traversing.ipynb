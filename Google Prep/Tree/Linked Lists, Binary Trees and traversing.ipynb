{
 "cells": [
  {
   "cell_type": "code",
   "execution_count": 1,
   "metadata": {},
   "outputs": [],
   "source": [
    "## Linked List\n",
    "\n",
    "## Every node has two parts\n",
    "    ## the data and pointer to next node\n",
    "##Linked list is a whole collection of nodes so the pointer points to the next node in list\n",
    "\n",
    "\n",
    "##first is the root node and there is a pointer to the root node\n",
    "    ## the pointer is a variable in the linked list\n",
    "    ## so we can access first node in list\n",
    "## last node, instead of pointer to next it is None\n",
    "\n",
    "# Operations\n",
    "    ## get_size() is in a variable and tracks size of list\n",
    "    ## fint(data) searches through list for data parameter\n",
    "    ## add(data) --> add pointer to new data, change root to point to new data\n",
    "    ## remove(data) first have to find then move the previous pointer to pointer to data's next number\n",
    "    \n",
    "    \n",
    "    \n",
    "    \n",
    "    "
   ]
  },
  {
   "cell_type": "code",
   "execution_count": 10,
   "metadata": {},
   "outputs": [],
   "source": [
    "## Linked List code\n",
    "\n",
    "# start with a node class\n",
    "\n",
    "## d is data, n is the next node\n",
    "class Node(object):\n",
    "    def __init__(self, d, n = None):\n",
    "        self.data = d\n",
    "        self.next_node = n\n",
    "    \n",
    "    def get_next(self):\n",
    "        return self.next_node\n",
    "    def set_next(self,n):\n",
    "        self.next_node = n\n",
    "        \n",
    "    def get_data(self):\n",
    "        return self.data\n",
    "    def set_data(self,d):\n",
    "        self.data = n\n",
    "    \n",
    "class LinkedList(object):\n",
    "    ## every linked list needs 2 instance variables\n",
    "        ## a root, b/c we need a pointer to find root node\n",
    "        ## and size\n",
    "        \n",
    "    def __init__(self, r = None):\n",
    "        self.root = r\n",
    "        self.size = 0\n",
    "    \n",
    "    def get_size(self):\n",
    "        return self.size ## simple get function for size\n",
    "    \n",
    "    def add(self, d): ## takes peice of data, d \n",
    "        new_node = Node (d, self.root)# create new node,\n",
    "        self.root = new_node#and will use a a pointer to next node, and change pointer to new node\n",
    "        self.size += 1\n",
    "    \n",
    "    def remove(self, d):## first do a find\n",
    "        this_node = self.root ## track current node we're looking at\n",
    "        prev_node = None ## and track previous node\n",
    "        while this_node: #iterate thru list\n",
    "            if this_node.get_data() == d: ## if we find what we are looking for snd not in root node\n",
    "                if prev_node: # we just have to set previous nodes to next next node pointer\n",
    "                    prev_node.set_next(this_node.get_next())\n",
    "                else:\n",
    "                    self.root = this_node\n",
    "                self.size -= 1\n",
    "                return True # data removed\n",
    "            else: # if data not removed\n",
    "                prev_node = this_node\n",
    "                this_node = this_node.get_next()\n",
    "        return False # did not find data, unable to delete\n",
    "    \n",
    "    def find(self,d):\n",
    "        this_node = self.root ## start at root node \n",
    "        while this_node: ## while there is still another node\n",
    "            if this_node.get_data() == d: # look at each node to compare data\n",
    "                return d # if found it will return data\n",
    "            else: # if not\n",
    "                this_node = this_node.get_next() ## fo to next node\n",
    "        return None\n",
    "                \n",
    "        \n",
    "        \n",
    "        \n",
    "        "
   ]
  },
  {
   "cell_type": "code",
   "execution_count": 11,
   "metadata": {},
   "outputs": [],
   "source": [
    "mylist = LinkedList()"
   ]
  },
  {
   "cell_type": "code",
   "execution_count": 12,
   "metadata": {},
   "outputs": [],
   "source": [
    "mylist.add(5)"
   ]
  },
  {
   "cell_type": "code",
   "execution_count": 13,
   "metadata": {},
   "outputs": [
    {
     "data": {
      "text/plain": [
       "5"
      ]
     },
     "execution_count": 13,
     "metadata": {},
     "output_type": "execute_result"
    }
   ],
   "source": [
    "mylist.find(5)"
   ]
  },
  {
   "cell_type": "code",
   "execution_count": 21,
   "metadata": {},
   "outputs": [],
   "source": [
    "node = Node(object)"
   ]
  },
  {
   "cell_type": "code",
   "execution_count": 22,
   "metadata": {},
   "outputs": [
    {
     "data": {
      "text/plain": [
       "object"
      ]
     },
     "execution_count": 22,
     "metadata": {},
     "output_type": "execute_result"
    }
   ],
   "source": [
    "node.get_data()"
   ]
  },
  {
   "cell_type": "code",
   "execution_count": 23,
   "metadata": {},
   "outputs": [],
   "source": [
    "## BINARY TREE And TRAVERSAL\n",
    "\n",
    "\n",
    "\n"
   ]
  },
  {
   "cell_type": "code",
   "execution_count": 129,
   "metadata": {},
   "outputs": [],
   "source": [
    "class Node():\n",
    "    def __init__(self, value): # type of value we wish to store in node\n",
    "        self.value = value\n",
    "        self.right = self.left = None ##left and right pointer\n",
    "    \n",
    "class BinaryTree():\n",
    "    def __init__(self, root):## a val will be passed in to define BT\n",
    "        self.root = Node(root)## setting root equal to a node of that\n",
    "    \n",
    "    \n",
    "    \n",
    "    \n",
    "    def print_tree(self,traversal_type):\n",
    "        if traversal_type == \"preorder\":\n",
    "            return self.preorder_print(tree.root, \"\")\n",
    "        elif traversal_type == \"inorder\":\n",
    "            return self.inorder_print(tree.root, \"\")\n",
    "        elif traversal_type == \"postorder\":\n",
    "            return self.postorder_print(tree.root, \"\")\n",
    "        else:\n",
    "            print(\"traversal type\" + str(traversal_type) + \"not supported\")\n",
    "            return False\n",
    "        \n",
    "    def preorder_print(self, start, traversal): ##start is node that will be updated at every recursive call\n",
    "        #traversal is the string that will print out and update on recursive call\n",
    "        # Root -> left -> right\n",
    "        if start: # if not none\n",
    "            traversal += (str(start.value) + \" \")\n",
    "            \n",
    "            traversal = self.preorder_print(start.left,traversal)##recursively calling\n",
    "            traversal = self.preorder_print(start.right, traversal)\n",
    "        return traversal\n",
    "    \n",
    "    def inorder_print(self, start, traversal):\n",
    "        #left - root - right\n",
    "        if start:\n",
    "            traversal = self.inorder_print(start.left,traversal)## consider the left subtree\n",
    "            traversal += (str(start.value) + \" \")# consider the rot\n",
    "            traversal = self.inorder_print(start.right, traversal) # consider the right \n",
    "        return traversal\n",
    "    \n",
    "    def postorder_print(self, start, traversal):\n",
    "        if start:\n",
    "            traversal = self.postorder_print(start.left,traversal)\n",
    "            traversal = self.postorder_print(start.right,traversal)\n",
    "            traversal += (str(start.value) + \" \")\n",
    "        return traversal\n",
    "    \n",
    "#     def bst_insert(self,value):\n",
    "#         if sel\n",
    "    \n",
    "#     def find(self,value):\n",
    "#         if self.root:\n",
    "#             is_found = self._find(value,self.root)\n",
    "#             if is_found:\n",
    "#                 return True\n",
    "#             return False\n",
    "#         else:\n",
    "#             return None\n",
    "    \n",
    "#     def _find(self,value, cur_node):\n",
    "#         if value > cur_node.value and cur_node.right:\n",
    "#             return self._find(value,cur_node.right)\n",
    "#         elif value < cur_node.value and cur_node.left:\n",
    "#             return self._find(value,cur_node.left)\n",
    "#         if value == cur_node.value:\n",
    "#             return True\n",
    "        \n",
    "tree = BinaryTree(4)\n",
    "## start filling in nodes, left and right children of root\n",
    "tree.root.left = Node(2)\n",
    "\n",
    "## set right\n",
    "tree.root.right = Node(8)\n",
    "\n",
    "tree.root.left.left = Node(5)\n",
    "tree.root.left.right = Node(10)\n",
    "# tree.root.right.left = Node()\n",
    "# tree.root.right.right = Node(7)\n",
    "# tree.root.right.right.right = Node(8)\n",
    "\n",
    "\n",
    "\n"
   ]
  },
  {
   "cell_type": "code",
   "execution_count": 130,
   "metadata": {},
   "outputs": [],
   "source": [
    "## Traversing through the tree\n",
    "    # Check if the current node is empty/null\n",
    "    # display the data part of the root(or current node)\n",
    "    # traverse the left subtree by recursivly calling the pre-order function\n",
    "    # Traverse the right subtree....\n",
    "    \n",
    "    \n",
    "    \n",
    "#  def preorder_print(self, start, traversal): ##start is node that will be updated at every recursive call\n",
    "#         #traversal is the string that will print out and update on recursive call\n",
    "#         # Root -> left -> right\n",
    "#         if start: # if not none\n",
    "#             traversal += (str(start.value) + \", \")\n",
    "            \n",
    "#             traversal = self.preorder_print(start.left,traversal)##recursively calling\n",
    "#             traversal = self.preorder_print(start.right, traversal)\n",
    "#         return traversal\n",
    "       \n"
   ]
  },
  {
   "cell_type": "code",
   "execution_count": 131,
   "metadata": {},
   "outputs": [
    {
     "data": {
      "text/plain": [
       "'4 2 5 10 8 '"
      ]
     },
     "execution_count": 131,
     "metadata": {},
     "output_type": "execute_result"
    }
   ],
   "source": [
    "tree.print_tree(\"preorder\")"
   ]
  },
  {
   "cell_type": "code",
   "execution_count": 106,
   "metadata": {},
   "outputs": [],
   "source": [
    "## In order\n",
    "    # check if the current node is empty / null\n",
    "    # Traverse the left subtree by recursivly calling the in order function\n",
    "    # Display the data part of the root\n",
    "    # Traverse the right subtree by recursivley calling the in-order function\n",
    "    \n",
    "    \n",
    "    \n",
    "# def inorder_print(sekf, start, traversal):\n",
    "#         #left - root - right\n",
    "#         if start:\n",
    "#             traversal = self.inorder_print(start.left,traversal)## consider the left subtree\n",
    "#             traversal += (str(start.value) + \"-\")# consider the rot\n",
    "#             traversal = self.inorder_print(start.right, traversal) # consider the right \n",
    "#         return traversal\n",
    "\n",
    "\n",
    "\n"
   ]
  },
  {
   "cell_type": "code",
   "execution_count": 107,
   "metadata": {},
   "outputs": [
    {
     "data": {
      "text/plain": [
       "'4 2 5 1 6 3 7 8 '"
      ]
     },
     "execution_count": 107,
     "metadata": {},
     "output_type": "execute_result"
    }
   ],
   "source": [
    "tree.print_tree(\"inorder\")"
   ]
  },
  {
   "cell_type": "code",
   "execution_count": 108,
   "metadata": {},
   "outputs": [
    {
     "data": {
      "text/plain": [
       "'4 5 2 6 8 7 3 1 '"
      ]
     },
     "execution_count": 108,
     "metadata": {},
     "output_type": "execute_result"
    }
   ],
   "source": [
    "tree.print_tree(\"postorder\")"
   ]
  },
  {
   "cell_type": "code",
   "execution_count": 132,
   "metadata": {},
   "outputs": [
    {
     "name": "stdout",
     "output_type": "stream",
     "text": [
      "False\n"
     ]
    }
   ],
   "source": [
    "print(tree.find(5))"
   ]
  },
  {
   "cell_type": "code",
   "execution_count": null,
   "metadata": {},
   "outputs": [],
   "source": []
  },
  {
   "cell_type": "code",
   "execution_count": 1,
   "metadata": {},
   "outputs": [],
   "source": []
  },
  {
   "cell_type": "code",
   "execution_count": null,
   "metadata": {},
   "outputs": [],
   "source": []
  }
 ],
 "metadata": {
  "kernelspec": {
   "display_name": "Python 3",
   "language": "python",
   "name": "python3"
  },
  "language_info": {
   "codemirror_mode": {
    "name": "ipython",
    "version": 3
   },
   "file_extension": ".py",
   "mimetype": "text/x-python",
   "name": "python",
   "nbconvert_exporter": "python",
   "pygments_lexer": "ipython3",
   "version": "3.7.0"
  }
 },
 "nbformat": 4,
 "nbformat_minor": 2
}
