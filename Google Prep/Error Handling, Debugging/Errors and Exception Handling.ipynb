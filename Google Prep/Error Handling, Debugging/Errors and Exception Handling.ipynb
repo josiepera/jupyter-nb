{
 "cells": [
  {
   "cell_type": "code",
   "execution_count": 1,
   "metadata": {},
   "outputs": [],
   "source": [
    "## We can use Error Handling to let the script continue with the code \n",
    "## even if there is an error\n",
    "## and report the error\n",
    "\n",
    "## three keywords for process\n",
    "    ## TRY - this is the block of code to be attempted \n",
    "    ## EXCEPT - Block of code will execute in case there is an error in try block\n",
    "    ## fFINALLY - a final block of code to be executed, regardless of an error\n",
    "    \n",
    "\n",
    "    \n"
   ]
  },
  {
   "cell_type": "code",
   "execution_count": 2,
   "metadata": {},
   "outputs": [],
   "source": [
    "def add(n1,n2):\n",
    "    return n1+n2"
   ]
  },
  {
   "cell_type": "code",
   "execution_count": 3,
   "metadata": {},
   "outputs": [
    {
     "data": {
      "text/plain": [
       "5"
      ]
     },
     "execution_count": 3,
     "metadata": {},
     "output_type": "execute_result"
    }
   ],
   "source": [
    "add(2,3)"
   ]
  },
  {
   "cell_type": "code",
   "execution_count": 16,
   "metadata": {},
   "outputs": [],
   "source": [
    "number1 = 10"
   ]
  },
  {
   "cell_type": "markdown",
   "metadata": {},
   "source": []
  },
  {
   "cell_type": "raw",
   "metadata": {},
   "source": []
  },
  {
   "cell_type": "code",
   "execution_count": 18,
   "metadata": {},
   "outputs": [
    {
     "name": "stdout",
     "output_type": "stream",
     "text": [
      "Provide number:20\n"
     ]
    }
   ],
   "source": [
    "number2 = input(\"Provide number:\")"
   ]
  },
  {
   "cell_type": "code",
   "execution_count": 20,
   "metadata": {},
   "outputs": [
    {
     "ename": "TypeError",
     "evalue": "unsupported operand type(s) for +: 'int' and 'str'",
     "output_type": "error",
     "traceback": [
      "\u001b[0;31m---------------------------------------------------------------------------\u001b[0m",
      "\u001b[0;31mTypeError\u001b[0m                                 Traceback (most recent call last)",
      "\u001b[0;32m<ipython-input-20-23e05dbd0628>\u001b[0m in \u001b[0;36m<module>\u001b[0;34m()\u001b[0m\n\u001b[0;32m----> 1\u001b[0;31m \u001b[0madd\u001b[0m\u001b[0;34m(\u001b[0m\u001b[0mnumber1\u001b[0m\u001b[0;34m,\u001b[0m\u001b[0mnumber2\u001b[0m\u001b[0;34m)\u001b[0m\u001b[0;34m\u001b[0m\u001b[0m\n\u001b[0m\u001b[1;32m      2\u001b[0m \u001b[0mprint\u001b[0m\u001b[0;34m(\u001b[0m\u001b[0;34m\"Something HAppend\"\u001b[0m\u001b[0;34m)\u001b[0m\u001b[0;34m\u001b[0m\u001b[0m\n",
      "\u001b[0;32m<ipython-input-2-ca1c06c84372>\u001b[0m in \u001b[0;36madd\u001b[0;34m(n1, n2)\u001b[0m\n\u001b[1;32m      1\u001b[0m \u001b[0;32mdef\u001b[0m \u001b[0madd\u001b[0m\u001b[0;34m(\u001b[0m\u001b[0mn1\u001b[0m\u001b[0;34m,\u001b[0m\u001b[0mn2\u001b[0m\u001b[0;34m)\u001b[0m\u001b[0;34m:\u001b[0m\u001b[0;34m\u001b[0m\u001b[0m\n\u001b[0;32m----> 2\u001b[0;31m     \u001b[0;32mreturn\u001b[0m \u001b[0mn1\u001b[0m\u001b[0;34m+\u001b[0m\u001b[0mn2\u001b[0m\u001b[0;34m\u001b[0m\u001b[0m\n\u001b[0m",
      "\u001b[0;31mTypeError\u001b[0m: unsupported operand type(s) for +: 'int' and 'str'"
     ]
    }
   ],
   "source": [
    "add(number1,number2)\n",
    "print(\"Something HAppend\")"
   ]
  },
  {
   "cell_type": "code",
   "execution_count": 21,
   "metadata": {},
   "outputs": [],
   "source": [
    "## the isea is to keep running even is there is an error with some\n",
    "## block of code"
   ]
  },
  {
   "cell_type": "code",
   "execution_count": 22,
   "metadata": {},
   "outputs": [
    {
     "name": "stdout",
     "output_type": "stream",
     "text": [
      "NOT ADDING CORRCTLY\n"
     ]
    }
   ],
   "source": [
    "try:\n",
    "    #block of code you want to try\n",
    "    #MAY HAVE ERROR\n",
    "    result = 10 + '10'\n",
    "\n",
    "except:\n",
    "    ##what you want to happen if there is an error\n",
    "    print(\"NOT ADDING CORRCTLY\")\n",
    "    \n",
    "    \n",
    "    "
   ]
  },
  {
   "cell_type": "code",
   "execution_count": null,
   "metadata": {},
   "outputs": [],
   "source": []
  },
  {
   "cell_type": "code",
   "execution_count": null,
   "metadata": {},
   "outputs": [],
   "source": []
  },
  {
   "cell_type": "code",
   "execution_count": 29,
   "metadata": {},
   "outputs": [
    {
     "name": "stdout",
     "output_type": "stream",
     "text": [
      "OSERROR OSERROR\n",
      "I always run\n"
     ]
    }
   ],
   "source": [
    "\n",
    "    ##write file name and open in 'w' mode\n",
    "    ## this is write mode \n",
    "        ## allows us to either open file and write to it\n",
    "        ## or create the file if it doesnt alrdy exist\n",
    "        \n",
    "try:\n",
    "    f = open('testfile', 'r') ## *if r & trying to write, you get oserror\n",
    "    f.write(\"write a test line\")\n",
    "except TypeError: ##except only for tyoe errors\n",
    "    print('There was a type error')\n",
    "except OSError: ##erros for writing in files, error when you dont have permission\n",
    "    print(\"OSERROR OSERROR\")\n",
    "finally: ##executes no matter what\n",
    "    print(\"I always run\")\n",
    "    \n",
    "    "
   ]
  },
  {
   "cell_type": "code",
   "execution_count": 39,
   "metadata": {},
   "outputs": [],
   "source": [
    "def ask_for_int():\n",
    "    try:\n",
    "        result = int(input(\"provide number: \"))\n",
    "    except:\n",
    "        print('Not a numer')\n",
    "    finally:\n",
    "        print(\"end of try/except/finally\")"
   ]
  },
  {
   "cell_type": "code",
   "execution_count": 40,
   "metadata": {},
   "outputs": [
    {
     "name": "stdout",
     "output_type": "stream",
     "text": [
      "provide number: 20\n",
      "end of try/except/finally\n"
     ]
    }
   ],
   "source": [
    "ask_for_int()"
   ]
  },
  {
   "cell_type": "code",
   "execution_count": 41,
   "metadata": {},
   "outputs": [
    {
     "name": "stdout",
     "output_type": "stream",
     "text": [
      "provide number: hey\n",
      "Not a numer\n",
      "end of try/except/finally\n"
     ]
    }
   ],
   "source": [
    "ask_for_int()"
   ]
  },
  {
   "cell_type": "code",
   "execution_count": 43,
   "metadata": {},
   "outputs": [],
   "source": [
    "## run a while loop to continually run the try block of code\n",
    "## THEN except if there is an error\n",
    "def ask_for_int():\n",
    "    \n",
    "    while True:\n",
    "        try:\n",
    "            result = int(input(\"provide number: \"))\n",
    "        except:\n",
    "            print('Not a numer')\n",
    "            continue ##makes it more readable\n",
    "        else: ##there is no exception\n",
    "            print(\"Yes Thank You\")\n",
    "            break\n",
    "        finally:\n",
    "            print(\"end of try/except/finally\")\n",
    "\n",
    "        "
   ]
  },
  {
   "cell_type": "code",
   "execution_count": 44,
   "metadata": {},
   "outputs": [
    {
     "name": "stdout",
     "output_type": "stream",
     "text": [
      "provide number: 20\n",
      "Yes Thank You\n",
      "end of try/except/finally\n"
     ]
    }
   ],
   "source": [
    "ask_for_int()"
   ]
  },
  {
   "cell_type": "code",
   "execution_count": 45,
   "metadata": {},
   "outputs": [
    {
     "name": "stdout",
     "output_type": "stream",
     "text": [
      "provide number: hey\n",
      "Not a numer\n",
      "end of try/except/finally\n",
      "provide number: 30\n",
      "Yes Thank You\n",
      "end of try/except/finally\n"
     ]
    }
   ],
   "source": [
    "ask_for_int()"
   ]
  },
  {
   "cell_type": "code",
   "execution_count": 46,
   "metadata": {},
   "outputs": [
    {
     "name": "stdout",
     "output_type": "stream",
     "text": [
      "provide number: hey\n",
      "Not a numer\n",
      "end of try/except/finally\n",
      "provide number: this\n",
      "Not a numer\n",
      "end of try/except/finally\n",
      "provide number: is\n",
      "Not a numer\n",
      "end of try/except/finally\n",
      "provide number: a \n",
      "Not a numer\n",
      "end of try/except/finally\n",
      "provide number: word\n",
      "Not a numer\n",
      "end of try/except/finally\n",
      "provide number: 20\n",
      "Yes Thank You\n",
      "end of try/except/finally\n"
     ]
    }
   ],
   "source": [
    "ask_for_int()"
   ]
  },
  {
   "cell_type": "code",
   "execution_count": 7,
   "metadata": {},
   "outputs": [],
   "source": [
    "    "
   ]
  },
  {
   "cell_type": "code",
   "execution_count": null,
   "metadata": {},
   "outputs": [],
   "source": []
  },
  {
   "cell_type": "code",
   "execution_count": null,
   "metadata": {},
   "outputs": [],
   "source": []
  }
 ],
 "metadata": {
  "kernelspec": {
   "display_name": "Python 3",
   "language": "python",
   "name": "python3"
  },
  "language_info": {
   "codemirror_mode": {
    "name": "ipython",
    "version": 3
   },
   "file_extension": ".py",
   "mimetype": "text/x-python",
   "name": "python",
   "nbconvert_exporter": "python",
   "pygments_lexer": "ipython3",
   "version": "3.7.0"
  }
 },
 "nbformat": 4,
 "nbformat_minor": 2
}
